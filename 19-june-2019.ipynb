{
 "cells": [
  {
   "cell_type": "markdown",
   "metadata": {},
   "source": [
    "You have been given an array A of size N consisting of positive integers. You need to find and print the product of all the number in this array Modulo .\n",
    "\n",
    "Input Format:\n",
    "The first line contains a single integer N denoting the size of the array. The next line contains N space separated integers denoting the elements of the array\n",
    "\n",
    "Output Format:\n",
    "Print a single integer denoting the product of all the elements of the array Modulo ."
   ]
  },
  {
   "cell_type": "code",
   "execution_count": 5,
   "metadata": {},
   "outputs": [
    {
     "name": "stdout",
     "output_type": "stream",
     "text": [
      "5\n",
      "120\n"
     ]
    }
   ],
   "source": [
    "n=int(input())\n",
    "pro=1\n",
    "for i in range(1,n+1):\n",
    "    #print(i,end=\" \")\n",
    "    pro*=i % (10**9+7)\n",
    "print(pro)\n"
   ]
  },
  {
   "cell_type": "markdown",
   "metadata": {},
   "source": [
    "### Function to print magical character and magical word..\n",
    "- Magical character-> A word which has prime number as its index..\n"
   ]
  },
  {
   "cell_type": "code",
   "execution_count": null,
   "metadata": {},
   "outputs": [
    {
     "name": "stdout",
     "output_type": "stream",
     "text": [
      "c\n"
     ]
    }
   ],
   "source": [
    "def isPrime(n):\n",
    "    n=int(input())\n",
    "    count=0\n",
    "    for i in range(1,n+1):\n",
    "        if(n%i==0):\n",
    "            count+=1\n",
    "    if(count==2):\n",
    "        return True\n",
    "    else:\n",
    "        return False\n",
    "\n",
    "        \n",
    "def magicalChar():\n",
    "    ch=input() \n",
    "    if(ord(ch)==isPrime(ch)):\n",
    "        print(\"Magical Character\")\n",
    "    else:\n",
    "        print(\"Normal character\")\n",
    "magicalChar()"
   ]
  },
  {
   "cell_type": "code",
   "execution_count": 16,
   "metadata": {},
   "outputs": [
    {
     "name": "stdout",
     "output_type": "stream",
     "text": [
      "hbh8\n"
     ]
    },
    {
     "data": {
      "text/plain": [
       "False"
      ]
     },
     "execution_count": 16,
     "metadata": {},
     "output_type": "execute_result"
    }
   ],
   "source": [
    "s=input()\n",
    "s.isdigit()"
   ]
  },
  {
   "cell_type": "markdown",
   "metadata": {},
   "source": [
    "First line contains a integer T denoting the number of test cases.\n",
    "\n",
    "Next T lines contains a single integer N denoting the floor from which lift is called.\n",
    "\n",
    "OUTPUT\n",
    "\n",
    "Output T lines containing one character \"A\" if the first lift goes to N th floor or \"B\" for the second lift."
   ]
  },
  {
   "cell_type": "code",
   "execution_count": 2,
   "metadata": {},
   "outputs": [
    {
     "ename": "SyntaxError",
     "evalue": "'break' outside loop (<ipython-input-2-bb287c4e00e7>, line 6)",
     "output_type": "error",
     "traceback": [
      "\u001b[1;36m  File \u001b[1;32m\"<ipython-input-2-bb287c4e00e7>\"\u001b[1;36m, line \u001b[1;32m6\u001b[0m\n\u001b[1;33m    \u001b[0m\n\u001b[1;37m    ^\u001b[0m\n\u001b[1;31mSyntaxError\u001b[0m\u001b[1;31m:\u001b[0m 'break' outside loop\n"
     ]
    }
   ],
   "source": []
  },
  {
   "cell_type": "code",
   "execution_count": null,
   "metadata": {},
   "outputs": [],
   "source": [
    "def royandprofile(length,width,height):\n",
    "    if(width<length or height<length):\n",
    "        print(\"UPLOAD ANOTHER\")\n",
    "    elif (width==height):\n",
    "        print(\"ACCEPTED\")\n",
    "    else:\n",
    "        print(\"CROP IT\")\n",
    "    return \n",
    "\n",
    "length=int(input())\n",
    "n=int(input())\n",
    "for i in range(1,n+1):\n",
    "    s=input().split()\n",
    "    width=int(s[0])\n",
    "    height=int(s[1])\n",
    "    royandprofile(length,width,height)\n"
   ]
  },
  {
   "cell_type": "code",
   "execution_count": null,
   "metadata": {},
   "outputs": [],
   "source": []
  }
 ],
 "metadata": {
  "kernelspec": {
   "display_name": "Python 3",
   "language": "python",
   "name": "python3"
  },
  "language_info": {
   "codemirror_mode": {
    "name": "ipython",
    "version": 3
   },
   "file_extension": ".py",
   "mimetype": "text/x-python",
   "name": "python",
   "nbconvert_exporter": "python",
   "pygments_lexer": "ipython3",
   "version": "3.7.3"
  }
 },
 "nbformat": 4,
 "nbformat_minor": 2
}
