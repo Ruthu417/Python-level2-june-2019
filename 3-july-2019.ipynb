{
 "cells": [
  {
   "cell_type": "code",
   "execution_count": 6,
   "metadata": {},
   "outputs": [
    {
     "name": "stdout",
     "output_type": "stream",
     "text": [
      "r u t h u\n",
      "{'r': 114, 'u': 117, 't': 116, 'h': 104}\n"
     ]
    }
   ],
   "source": [
    "\n",
    "st=input().split()\n",
    "dic={}\n",
    "for ch in st:\n",
    "    dic[ch]=ord(ch)\n",
    "print(dic)"
   ]
  },
  {
   "cell_type": "code",
   "execution_count": 6,
   "metadata": {},
   "outputs": [
    {
     "name": "stdout",
     "output_type": "stream",
     "text": [
      "A P S S D C\n",
      "Apssdc\n"
     ]
    }
   ],
   "source": [
    "# Function to print Apssdc when we gave A P S S D C as input..\n",
    "\n",
    "st=input()\n",
    "def print_string(st):\n",
    "    for ch in range(1,len(st)+1):\n",
    "        st=st.replace(\" \",\"\")\n",
    "        up=st[0].upper()\n",
    "        lw=st[1:].lower()\n",
    "    print(up+lw)\n",
    "        \n",
    "print_string(st)"
   ]
  },
  {
   "cell_type": "code",
   "execution_count": 11,
   "metadata": {},
   "outputs": [
    {
     "name": "stdout",
     "output_type": "stream",
     "text": [
      "hai hello world this is ruthu\n",
      "hello\n",
      "world\n",
      "ruthu\n"
     ]
    }
   ],
   "source": [
    "#2. Print the maximum length word of given words\n",
    "#Hai hello world\n",
    "#hello\n",
    "#world\n",
    "\n",
    "st=input().split()\n",
    "lengths=[]\n",
    "def print_max_len_word(st):\n",
    "    for word in st:\n",
    "        lengths.append(len(word))\n",
    "    max_length=max(lengths)\n",
    "    for word in st:\n",
    "        if max_length==len(word):\n",
    "            print(word)\n",
    "        \n",
    "print_max_len_word(st)"
   ]
  },
  {
   "cell_type": "code",
   "execution_count": 13,
   "metadata": {},
   "outputs": [
    {
     "name": "stdout",
     "output_type": "stream",
     "text": [
      "ramu chanti \n",
      "c\n",
      "chanti\n"
     ]
    }
   ],
   "source": [
    "#3. Print all the words which starts with the given character, If no words matches with the given condition you should print -1\n",
    "#ramu ravi balu\n",
    "#r\n",
    "#ramu\n",
    "#ravi\n",
    "\n",
    "st=input().split()\n",
    "ch=input()\n",
    "def printing_based_on_character(st):\n",
    "    for word in st:\n",
    "        if word.startswith(ch):\n",
    "            print(word)\n",
    "    \n",
    "printing_based_on_character(st)\n"
   ]
  },
  {
   "cell_type": "code",
   "execution_count": 18,
   "metadata": {},
   "outputs": [
    {
     "name": "stdout",
     "output_type": "stream",
     "text": [
      "ramu ravi balu raju mahesh\n",
      "mahesh\n"
     ]
    }
   ],
   "source": [
    "#4. Print all the words which words not ends with vowels(a,e,i,o,u)\n",
    "#ramu ravi balu raju mahesh\n",
    "#mahesh\n",
    "v=('a','e','i','o','u')\n",
    "st=input().split()\n",
    "def fun_not_ends_with(st):\n",
    "    for word in st:\n",
    "        if word.endswith(v)==False:\n",
    "            print(word)\n",
    "\n",
    "fun_not_ends_with(st)\n",
    "\n",
    "\n"
   ]
  },
  {
   "cell_type": "code",
   "execution_count": 21,
   "metadata": {},
   "outputs": [
    {
     "name": "stdout",
     "output_type": "stream",
     "text": [
      "amma ramu ruthu\n",
      "amma\n",
      "ruthu\n"
     ]
    }
   ],
   "source": [
    "#5. Print all the words which word contains duplicate characters\n",
    "#ramu akash balu\n",
    "#akash\n",
    "words=input().split()\n",
    "def print_duplicate_word(words):\n",
    "    for word in words:\n",
    "        for ch in word:\n",
    "            if word.count(ch)>1:\n",
    "                print(word)\n",
    "                break\n",
    "\n",
    "print_duplicate_word(words)\n",
    "    "
   ]
  },
  {
   "cell_type": "code",
   "execution_count": 24,
   "metadata": {},
   "outputs": [
    {
     "name": "stdout",
     "output_type": "stream",
     "text": [
      "ruThuMma\n",
      "RUtHUma\n"
     ]
    }
   ],
   "source": [
    "#6. Swap the case of all characters in given string except last character\n",
    "#HellowOrld\n",
    "#hELLOWoRLd\n",
    "\n",
    "st=input()\n",
    "def swap_of_string(st):\n",
    "    s=st[:-2].swapcase()\n",
    "    print(s+st[-1])\n",
    "\n",
    "swap_of_string(st)\n",
    "    "
   ]
  },
  {
   "cell_type": "code",
   "execution_count": 26,
   "metadata": {},
   "outputs": [
    {
     "name": "stdout",
     "output_type": "stream",
     "text": [
      "MedaRuthu\n",
      "2\n"
     ]
    }
   ],
   "source": [
    "#7. Print the number of words in a given string (here word starting character contains UPPER letter)\n",
    "#HelloWorld\n",
    "#2\n",
    "\n",
    "st=input()\n",
    "def print_num_of_words(st):\n",
    "    w_c=0\n",
    "    for word in st:\n",
    "        if word[0].isupper():\n",
    "            w_c+=1\n",
    "    print(w_c)\n",
    "\n",
    "print_num_of_words(st)\n",
    "    \n",
    "\n",
    "\n"
   ]
  },
  {
   "cell_type": "code",
   "execution_count": 34,
   "metadata": {},
   "outputs": [
    {
     "name": "stdout",
     "output_type": "stream",
     "text": [
      "ruthu417@gmail.com\n",
      "DIGITS  3\n",
      "ALPHABETS  13\n",
      "OTHER  2\n"
     ]
    }
   ],
   "source": [
    "#. Print the number of digits, alphabets and any other \n",
    "#www.way2sms.com\n",
    "#DIGITS 1\n",
    "#ALPHABETS  12\n",
    "#OTHER 2\n",
    "\n",
    "def count_of_all():\n",
    "    st=input()\n",
    "    c=0\n",
    "    c2=0\n",
    "    c3=0\n",
    "    for ch in st:\n",
    "        if ch.isdigit():\n",
    "            c+=1\n",
    "        elif ch.isalpha():\n",
    "            c2+=1\n",
    "        else:\n",
    "            c3+=1\n",
    "    print(\"DIGITS \",c)\n",
    "    print(\"ALPHABETS \",c2)\n",
    "    print(\"OTHER \",c3)\n",
    "    \n",
    "count_of_all()\n"
   ]
  },
  {
   "cell_type": "code",
   "execution_count": 36,
   "metadata": {},
   "outputs": [
    {
     "name": "stdout",
     "output_type": "stream",
     "text": [
      "10\n",
      "2 4 6 8 10 \n",
      "1 3 5 7 9 "
     ]
    }
   ],
   "source": [
    "#1.Print even and odd numbers up to given range.\n",
    "\n",
    "#### input : 10 \n",
    "#### output:\n",
    "#### even numbers -->  2,4,6,8,10\n",
    "#### odd numbers --> 1,3,5,7,9\n",
    "\n",
    "n=int(input())\n",
    "def print_even_and_odd(n):\n",
    "    for num in range(1,n+1):\n",
    "        if(num%2==0):\n",
    "            print(num,end=\" \")\n",
    "    print()\n",
    "    for num in range(1,n+1):\n",
    "        if(num%2==1):\n",
    "            print(num,end=\" \")\n",
    "    return\n",
    "print_even_and_odd(n)"
   ]
  },
  {
   "cell_type": "code",
   "execution_count": 46,
   "metadata": {},
   "outputs": [
    {
     "name": "stdout",
     "output_type": "stream",
     "text": [
      "9 5\n",
      "9 False\n",
      "5 True\n"
     ]
    }
   ],
   "source": [
    "### 2.print given numbers prime or not.\n",
    "\n",
    "#### input: --> 5 9\n",
    "#### output: -->5  True\n",
    "####                   9   False\n",
    "def isPrime(n):\n",
    "    count=0\n",
    "    for i in range(1,n+1):\n",
    "        if(n%i==0):\n",
    "            count+=1\n",
    "    if(count==2):\n",
    "        return True\n",
    "    else:\n",
    "        return False\n",
    "\n",
    "\n",
    "def check_prime():\n",
    "    num,num2=list(map(int,input().split()))\n",
    "    if isPrime(num):\n",
    "        print(num,\"True\")\n",
    "    else:\n",
    "        print(num,\"False\")\n",
    "    if isPrime(num2):\n",
    "        print(num2,\"True\")\n",
    "    else:\n",
    "        print(num2,\"False\")\n",
    "            \n",
    "check_prime()\n"
   ]
  },
  {
   "cell_type": "code",
   "execution_count": 1,
   "metadata": {},
   "outputs": [
    {
     "name": "stdout",
     "output_type": "stream",
     "text": [
      "12 34 23 45 64\n",
      "45\n"
     ]
    }
   ],
   "source": [
    "### 3.Print second Max Ex: 12 34 23 45 65 o/p:45\n",
    "\n",
    "def print_sec_max(li):\n",
    "    st=input().split()\n",
    "    for ch in st:\n",
    "        li.append(int(ch))\n",
    "        li.sort()\n",
    "    print(li[-2])\n",
    "\n",
    "li=[]\n",
    "print_sec_max(li)  "
   ]
  },
  {
   "cell_type": "code",
   "execution_count": 53,
   "metadata": {},
   "outputs": [
    {
     "name": "stdout",
     "output_type": "stream",
     "text": [
      "[1, 32, 477, 73984, 834378498]\n"
     ]
    }
   ],
   "source": [
    "l=[73984,477,32,1,834378498]\n",
    "l.sort()\n",
    "print(l)"
   ]
  },
  {
   "cell_type": "code",
   "execution_count": 3,
   "metadata": {},
   "outputs": [
    {
     "name": "stdout",
     "output_type": "stream",
     "text": [
      "20\n",
      "2 3 5 7 11 13 17 19 "
     ]
    }
   ],
   "source": [
    "### 3. Print prime numbers up to given range. --> input: 10 output: 2 3 5 7\n",
    "\n",
    "def prime_range(n):\n",
    "    for each in range(1,n+1):\n",
    "        count=0\n",
    "        for dig in range(1,each+1):\n",
    "            if(each%dig==0):\n",
    "                count+=1\n",
    "        if(count==2):\n",
    "            print(each,end=\" \")\n",
    "        each+=1\n",
    "        \n",
    "n=int(input())        \n",
    "prime_range(n)\n",
    "            "
   ]
  },
  {
   "cell_type": "code",
   "execution_count": null,
   "metadata": {},
   "outputs": [],
   "source": [
    "### 4.Print factorial of a given number if it is a prime otherwise print power of the value.\n",
    "t=int(input())\n",
    "def isPrime(n):\n",
    "    count=0\n",
    "    for i in range(1,n+1):\n",
    "        if (n%i==0):\n",
    "            count+=1\n",
    "    if(count==2):\n",
    "        return True\n",
    "    \n",
    "def factorial(n):\n",
    "    fact=1\n",
    "    for i in range(1,n+1):\n",
    "        if n==1:\n",
    "            return 0\n",
    "        elif n==2:\n",
    "            return 2\n",
    "        else:\n",
    "            fact*=i\n",
    "    print(fact)\n",
    "\n",
    "def power_of_value(n):\n",
    "    if n==1:\n",
    "        print(n)\n",
    "    else:\n",
    "        print(n**2)\n",
    "\n",
    "for i in range(t):\n",
    "    n=int(input())\n",
    "    if (isPrime(n)):\n",
    "        res=factorial(n)\n",
    "        if  res!=None:\n",
    "            print(res)\n",
    "    else:\n",
    "        p=power_of_value(n)\n",
    "        if p!=None:\n",
    "            print(p)"
   ]
  },
  {
   "cell_type": "code",
   "execution_count": null,
   "metadata": {},
   "outputs": [],
   "source": []
  },
  {
   "cell_type": "code",
   "execution_count": null,
   "metadata": {},
   "outputs": [],
   "source": []
  }
 ],
 "metadata": {
  "kernelspec": {
   "display_name": "Python 3",
   "language": "python",
   "name": "python3"
  },
  "language_info": {
   "codemirror_mode": {
    "name": "ipython",
    "version": 3
   },
   "file_extension": ".py",
   "mimetype": "text/x-python",
   "name": "python",
   "nbconvert_exporter": "python",
   "pygments_lexer": "ipython3",
   "version": "3.7.3"
  }
 },
 "nbformat": 4,
 "nbformat_minor": 2
}
