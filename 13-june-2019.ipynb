{
 "cells": [
  {
   "cell_type": "markdown",
   "metadata": {},
   "source": [
    "## Adanced Programming"
   ]
  },
  {
   "cell_type": "code",
   "execution_count": null,
   "metadata": {},
   "outputs": [],
   "source": [
    "# Function to print multiplication table\n",
    "\n",
    "def mathTable(n,min,max):  # 'n' represents the nth table \n",
    "    for i in range(min,max+1):\n",
    "        print(n,\"*\",i,\"=\",n+i)\n",
    "n=int(input(\"Enter value to print math table: \"))\n",
    "min=int(input(\"Enter min value of math table:\"))\n",
    "max=int(input(\"Enter the max value of math table:\"))\n",
    "mathTable(n,min,max)"
   ]
  },
  {
   "cell_type": "code",
   "execution_count": null,
   "metadata": {},
   "outputs": [],
   "source": []
  },
  {
   "cell_type": "code",
   "execution_count": 7,
   "metadata": {},
   "outputs": [
    {
     "data": {
      "text/plain": [
       "153"
      ]
     },
     "execution_count": 7,
     "metadata": {},
     "output_type": "execute_result"
    }
   ],
   "source": [
    "#Fucntion to check Amstong or not\n",
    "def isAmstrong(num):\n",
    "    sum=0\n",
    "    temp=num\n",
    "    while(num!=0):\n",
    "        rem=num%10\n",
    "        sum+=rem**3\n",
    "        num=num//10\n",
    "    if(temp==sum):\n",
    "        return sum\n",
    "    else:\n",
    "        return -1\n",
    "isAmstrong(153)\n",
    "        "
   ]
  },
  {
   "cell_type": "code",
   "execution_count": 9,
   "metadata": {},
   "outputs": [
    {
     "name": "stdout",
     "output_type": "stream",
     "text": [
      "1 153 371 407 "
     ]
    }
   ],
   "source": [
    "#Function to print odd Amstrong no.s in a range\n",
    "def oddAmstrong(n):\n",
    "    for i in range(1,n+1):\n",
    "        if(i%2==1):\n",
    "            if(isAmstrong(i)==i):\n",
    "                print(i,end=\" \")\n",
    "oddAmstrong(1000)\n",
    "\n",
    "\n",
    "def oddAmstrong2()"
   ]
  },
  {
   "cell_type": "code",
   "execution_count": null,
   "metadata": {},
   "outputs": [],
   "source": []
  }
 ],
 "metadata": {
  "kernelspec": {
   "display_name": "Python 3",
   "language": "python",
   "name": "python3"
  },
  "language_info": {
   "codemirror_mode": {
    "name": "ipython",
    "version": 3
   },
   "file_extension": ".py",
   "mimetype": "text/x-python",
   "name": "python",
   "nbconvert_exporter": "python",
   "pygments_lexer": "ipython3",
   "version": "3.7.3"
  }
 },
 "nbformat": 4,
 "nbformat_minor": 2
}
