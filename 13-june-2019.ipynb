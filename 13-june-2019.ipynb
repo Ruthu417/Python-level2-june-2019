{
 "cells": [
  {
   "cell_type": "markdown",
   "metadata": {},
   "source": [
    "## Adanced Programming"
   ]
  },
  {
   "cell_type": "code",
   "execution_count": null,
   "metadata": {},
   "outputs": [],
   "source": [
    "# Function to print multiplication table\n",
    "\n",
    "def mathTable(n,min,max):  # 'n' represents the nth table \n",
    "    for i in range(min,max+1):\n",
    "        print(n,\"*\",i,\"=\",n+i)\n",
    "n=int(input(\"Enter value to print math table: \"))\n",
    "min=int(input(\"Enter min value of math table:\"))\n",
    "max=int(input(\"Enter the max value of math table:\"))\n",
    "mathTable(n,min,max)"
   ]
  },
  {
   "cell_type": "code",
   "execution_count": null,
   "metadata": {},
   "outputs": [],
   "source": []
  },
  {
   "cell_type": "code",
   "execution_count": null,
   "metadata": {},
   "outputs": [],
   "source": []
  }
 ],
 "metadata": {
  "kernelspec": {
   "display_name": "Python 3",
   "language": "python",
   "name": "python3"
  },
  "language_info": {
   "codemirror_mode": {
    "name": "ipython",
    "version": 3
   },
   "file_extension": ".py",
   "mimetype": "text/x-python",
   "name": "python",
   "nbconvert_exporter": "python",
   "pygments_lexer": "ipython3",
   "version": "3.7.3"
  }
 },
 "nbformat": 4,
 "nbformat_minor": 2
}
