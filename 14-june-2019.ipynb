{
 "cells": [
  {
   "cell_type": "markdown",
   "metadata": {},
   "source": [
    "## Problem Solving and Programming in Python-Day4 \n",
    "\n",
    "### Date-14 June 2019\n",
    "\n",
    "#### Day Objectives\n",
    "      Python Data Structures\n",
    "          *Lists\n",
    "          *Tuples\n",
    "          *Dictionaries\n",
    "    Basic Problem set on Data Structures\n",
    "    Advanced Problem Set\n",
    "    Packages and Modules in Python"
   ]
  },
  {
   "cell_type": "markdown",
   "metadata": {},
   "source": [
    "## Python Data Structures\n",
    "\n",
    "## Lists"
   ]
  },
  {
   "cell_type": "code",
   "execution_count": 40,
   "metadata": {},
   "outputs": [
    {
     "data": {
      "text/plain": [
       "[123, 234, 349, 384, 234, 456, 789]"
      ]
     },
     "execution_count": 40,
     "metadata": {},
     "output_type": "execute_result"
    }
   ],
   "source": [
    "# Array is a collection of data\n",
    "# List is an important data structe in python to store similar kind of data elements\n",
    "\n",
    "li=[123,987,384,349] # defining a list\n",
    "li # Access the entire list\n",
    "li[2] # Accessing the element using index and it gives 3rd element\n",
    "li[1:] # From second element to last element\n",
    "li[:] # Giving the entire list\n",
    "li[:3] # First 3 elements\n",
    "li[::-1] # Giving the copy or reverse of list but not reversing the list\n",
    "li # Again gave the original list\n",
    "li=li[::-1]\n",
    "li # Now it got reversed after assignment\n",
    "li=li[::-1]\n",
    "li # Came back to original list i.e., re-assigned to original list\n",
    "li[::2] # Accessing even index elements\n",
    "li[1::2] # Accessing odd index elements\n",
    "\n",
    "\n",
    "## Data manipulation in lists\n",
    "#Lists can be accessed , manipulated in two different ways\n",
    "    # Direct Referencing - Accessing using[index]\n",
    "    # Indirect Referencing - through functions(pre-defined)\n",
    "    \n",
    "    \n",
    "li.append(345)#Adding an element to the end of the list..\n",
    "li # Element got added here\n",
    "li.insert(2,234)#Add an element at a perticular index\n",
    "li # 234 is added at 3rd position\n",
    "li.sort() # Sorts the elements in ascending order\n",
    "li\n",
    "li.pop()# Remove the last element in a list and it will return that value\n",
    "li\n",
    "li.pop(2)#Remove an element at a particular index\n",
    "li\n",
    "\n",
    "li2=[234,456,789]\n",
    "li2\n",
    "\n",
    "li.extend(li2) #Merge list2 into list1\n",
    "li\n",
    "sum(li) # Sums the elements\n",
    "max(li) # Maximum of list\n",
    "min(li) # Minimum value of list\n",
    "len(li) # Length of the list\n",
    "\n",
    "\n",
    "# Average of elements in a list\n",
    "avg=float(sum(li)/len(li))\n",
    "avg\n",
    "\n",
    "# Average of all alternate elements at even position\n",
    "s=li[::2]\n",
    "avg=sum(s)/len(s)\n",
    "avg\n",
    "\n",
    "# Average of all alternae elements at off positions\n",
    "o=li[1::2]\n",
    "avg=sum(o)//len(o)\n",
    "avg\n",
    "\n",
    "li"
   ]
  },
  {
   "cell_type": "code",
   "execution_count": null,
   "metadata": {},
   "outputs": [],
   "source": []
  },
  {
   "cell_type": "code",
   "execution_count": 65,
   "metadata": {},
   "outputs": [
    {
     "name": "stdout",
     "output_type": "stream",
     "text": [
      "234 234 349 384 456 789 \n",
      "Second largest is \n"
     ]
    },
    {
     "data": {
      "text/plain": [
       "456"
      ]
     },
     "execution_count": 65,
     "metadata": {},
     "output_type": "execute_result"
    }
   ],
   "source": [
    "#Fucntion to identify the 2nd largest element\n",
    "    # Sort the data and second last element\n",
    "    # Sort the data in reverse order and select the last element\n",
    "    # Remove the max element and then get the max\n",
    "    # Identify the \n",
    "    \n",
    "\n",
    "def secondLargest(li):\n",
    "    li.sort()\n",
    "    for i in range (1,len(li)):\n",
    "         print(li[i],end=\" \")\n",
    "    print()\n",
    "    print(\"Second largest is \")\n",
    "    return li[i-1]\n",
    "secondLargest(li)"
   ]
  },
  {
   "cell_type": "code",
   "execution_count": null,
   "metadata": {},
   "outputs": [],
   "source": []
  },
  {
   "cell_type": "code",
   "execution_count": 9,
   "metadata": {},
   "outputs": [
    {
     "data": {
      "text/plain": [
       "3456"
      ]
     },
     "execution_count": 9,
     "metadata": {},
     "output_type": "execute_result"
    }
   ],
   "source": [
    "##### def SecondLarget(li):\n",
    "li3=[567,3456,967,56,5698]\n",
    "def SecondLargest(li3):\n",
    "    li3.sort()\n",
    "    return li3[-2]\n",
    "SecondLargest(li3)"
   ]
  },
  {
   "cell_type": "code",
   "execution_count": null,
   "metadata": {},
   "outputs": [],
   "source": []
  },
  {
   "cell_type": "code",
   "execution_count": 10,
   "metadata": {},
   "outputs": [
    {
     "data": {
      "text/plain": [
       "567"
      ]
     },
     "execution_count": 10,
     "metadata": {},
     "output_type": "execute_result"
    }
   ],
   "source": [
    "#Function to generate nth largest\n",
    "\n",
    "def genericLargest(li3,n):\n",
    "    li3.sort()\n",
    "    return li3[-n]\n",
    "SecondLargest(li3)\n",
    "genericLargest(li3,4)"
   ]
  },
  {
   "cell_type": "code",
   "execution_count": 46,
   "metadata": {},
   "outputs": [
    {
     "data": {
      "text/plain": [
       "-1"
      ]
     },
     "execution_count": 46,
     "metadata": {},
     "output_type": "execute_result"
    }
   ],
   "source": [
    "#Function to search for data in a list\n",
    "    #If key is found return the index otherwise return -1\n",
    "\n",
    "def linearSearch(li3,key):\n",
    "    for index in range(0,len(li3)):\n",
    "        if li3[index]==key:\n",
    "            return index\n",
    "    else:\n",
    "        return -1\n",
    "linearSearch(li3,967)\n",
    "#li3\n",
    "\n",
    "def linearSearch2(li,key):\n",
    "    for element in li3:\n",
    "        if element==key:\n",
    "            return li3.index(element)\n",
    "    return -1\n",
    "linearSearch2(li3,3456)\n",
    "#li3\n",
    "\n",
    "\n",
    "def linearSearch3(li3,key):\n",
    "    if key in li3:\n",
    "        return li3.index(key)\n",
    "    else:\n",
    "        return -1\n",
    "linearSearch3(li3,5896)"
   ]
  },
  {
   "cell_type": "code",
   "execution_count": 57,
   "metadata": {},
   "outputs": [
    {
     "data": {
      "text/plain": [
       "2"
      ]
     },
     "execution_count": 57,
     "metadata": {},
     "output_type": "execute_result"
    }
   ],
   "source": [
    "#Function to count the occurences of a character in a string\n",
    "# \"Python Prograamming\" ->  count the occrences of m in this string\n",
    "\n",
    "def count_character(s,c):\n",
    "    count=0\n",
    "    for ch in s:\n",
    "        if ch==c:\n",
    "            count+=1\n",
    "    return count\n",
    "def count_character_occurence(s,c):\n",
    "    return s.count(c)\n",
    "count_character_occurence(\"madam\",'m')"
   ]
  },
  {
   "cell_type": "code",
   "execution_count": 11,
   "metadata": {},
   "outputs": [
    {
     "ename": "ValueError",
     "evalue": "invalid literal for int() with base 10: ' '",
     "output_type": "error",
     "traceback": [
      "\u001b[1;31m---------------------------------------------------------------------------\u001b[0m",
      "\u001b[1;31mValueError\u001b[0m                                Traceback (most recent call last)",
      "\u001b[1;32m<ipython-input-11-5b1c5829a792>\u001b[0m in \u001b[0;36m<module>\u001b[1;34m\u001b[0m\n\u001b[0;32m      6\u001b[0m \u001b[0mnumberlist\u001b[0m\u001b[1;33m=\u001b[0m\u001b[1;33m[\u001b[0m\u001b[1;33m]\u001b[0m\u001b[1;33m\u001b[0m\u001b[1;33m\u001b[0m\u001b[0m\n\u001b[0;32m      7\u001b[0m \u001b[1;32mfor\u001b[0m \u001b[0mi\u001b[0m \u001b[1;32min\u001b[0m \u001b[0ms\u001b[0m\u001b[1;33m:\u001b[0m\u001b[1;33m\u001b[0m\u001b[1;33m\u001b[0m\u001b[0m\n\u001b[1;32m----> 8\u001b[1;33m     \u001b[0mnumberList\u001b[0m\u001b[1;33m.\u001b[0m\u001b[0mappend\u001b[0m\u001b[1;33m(\u001b[0m\u001b[0mint\u001b[0m\u001b[1;33m(\u001b[0m\u001b[0mi\u001b[0m\u001b[1;33m)\u001b[0m\u001b[1;33m)\u001b[0m\u001b[1;33m\u001b[0m\u001b[1;33m\u001b[0m\u001b[0m\n\u001b[0m\u001b[0;32m      9\u001b[0m \u001b[0mnumberlist\u001b[0m\u001b[1;33m\u001b[0m\u001b[1;33m\u001b[0m\u001b[0m\n",
      "\u001b[1;31mValueError\u001b[0m: invalid literal for int() with base 10: ' '"
     ]
    }
   ],
   "source": [
    "#Function to find the no.of occrences of a substring\n",
    "    # \"abcabcabcdda\"-> \"ab\"-> 2\n",
    "    \n",
    "s=\"1 2 3 4 5 6 \"\n",
    "s.split()\n",
    "numberlist=[]\n",
    "for i in s:\n",
    "    numberList.append(int(i))\n",
    "numberlist"
   ]
  },
  {
   "cell_type": "code",
   "execution_count": 26,
   "metadata": {},
   "outputs": [
    {
     "ename": "IndentationError",
     "evalue": "unexpected indent (<ipython-input-26-e966377294ea>, line 7)",
     "output_type": "error",
     "traceback": [
      "\u001b[1;36m  File \u001b[1;32m\"<ipython-input-26-e966377294ea>\"\u001b[1;36m, line \u001b[1;32m7\u001b[0m\n\u001b[1;33m    n=int(input(\"Enter the size of array \"))\u001b[0m\n\u001b[1;37m    ^\u001b[0m\n\u001b[1;31mIndentationError\u001b[0m\u001b[1;31m:\u001b[0m unexpected indent\n"
     ]
    }
   ],
   "source": [
    "#Practice test 14-june-2019\n",
    "\n",
    "#Input Format\n",
    "    #First line contains size of the array\n",
    "    #Second line contains array elements\n",
    "    \n",
    "    n=int(input(\"Enter the size of array \"))\n",
    "    li=len(n)\n",
    "    for i in range(i,li):\n",
    "        in=int(input(\"Enter the value \"))\n",
    "    \n",
    "    for i in range(1,li):\n",
    "        print(li[i])\n",
    "\n",
    "    "
   ]
  },
  {
   "cell_type": "code",
   "execution_count": null,
   "metadata": {},
   "outputs": [],
   "source": []
  }
 ],
 "metadata": {
  "kernelspec": {
   "display_name": "Python 3",
   "language": "python",
   "name": "python3"
  },
  "language_info": {
   "codemirror_mode": {
    "name": "ipython",
    "version": 3
   },
   "file_extension": ".py",
   "mimetype": "text/x-python",
   "name": "python",
   "nbconvert_exporter": "python",
   "pygments_lexer": "ipython3",
   "version": "3.7.3"
  }
 },
 "nbformat": 4,
 "nbformat_minor": 2
}
