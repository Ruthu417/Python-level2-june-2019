{
 "cells": [
  {
   "cell_type": "markdown",
   "metadata": {},
   "source": [
    "### Function to sum of digits in a number"
   ]
  },
  {
   "cell_type": "code",
   "execution_count": 13,
   "metadata": {},
   "outputs": [
    {
     "name": "stdout",
     "output_type": "stream",
     "text": [
      "5467\n",
      "22\n"
     ]
    }
   ],
   "source": [
    "def sumOfDigits(n):\n",
    "    sum=0\n",
    "    while(n>0):\n",
    "        rem=n%10\n",
    "        sum+=rem\n",
    "        n=n//10\n",
    "    print(sum)\n",
    "\n",
    "n=int(input())\n",
    "sumOfDigits(n)"
   ]
  },
  {
   "cell_type": "code",
   "execution_count": 9,
   "metadata": {},
   "outputs": [
    {
     "name": "stdout",
     "output_type": "stream",
     "text": [
      "0 4 1 1 1 1 1 0 0 0 "
     ]
    }
   ],
   "source": [
    "# Given a string s, consisting of alphabets and digits, find the frequency of each digit in the given string\n",
    "    # Input Format : The first line contains a string, num, which is the gicen number.\n",
    "    # Output Format : Print ten space separated integers in a single line denoting the frequency of each digit...\n",
    "\n",
    "# s=213abc456def111\n",
    "# 0 4 1 1 1 1 1 0 0 0 -> Frequency of sorted numbers\n",
    "# count(2)>1\n",
    "# count(1)-> 4\n",
    "# 3-1\n",
    "#a-1...\n",
    "\n",
    "def uniqueData(allnumbers):\n",
    "    unique=[]\n",
    "    for n in allnumbers:\n",
    "        if n not in unique:\n",
    "            unique.append(n)\n",
    "    return unique\n",
    "\n",
    "def digitFrequency(s):\n",
    "    allnumbers=[]\n",
    "    for i in s:\n",
    "        if i.isdigit():\n",
    "            allnumbers.append(i)\n",
    "    unique=uniqueData(allnumbers)\n",
    "    for i in range(0,10):\n",
    "        if str(i) not in unique:\n",
    "            print(0,end= \" \")\n",
    "        else:\n",
    "            count=allnumbers.count(str(i))\n",
    "            print(count,end=\" \")\n",
    "    \n",
    "digitFrequency('213abc456def111')"
   ]
  },
  {
   "cell_type": "code",
   "execution_count": 17,
   "metadata": {},
   "outputs": [
    {
     "name": "stdout",
     "output_type": "stream",
     "text": [
      "0\n"
     ]
    }
   ],
   "source": []
  },
  {
   "cell_type": "code",
   "execution_count": 18,
   "metadata": {},
   "outputs": [
    {
     "name": "stdout",
     "output_type": "stream",
     "text": [
      "[1, 2, 3, 4, 5]\n"
     ]
    }
   ],
   "source": [
    "all=[1,2,3,4,5,3,2,1]\n",
    "unique=[]\n",
    "for v in all:\n",
    "    if v not in unique:\n",
    "        unique.append(v)\n",
    "print(unique)"
   ]
  },
  {
   "cell_type": "code",
   "execution_count": 13,
   "metadata": {},
   "outputs": [
    {
     "name": "stdout",
     "output_type": "stream",
     "text": [
      "62228\n"
     ]
    }
   ],
   "source": [
    "def average(lw,up):\n",
    "    sum=0\n",
    "    for i in range(lw,up+1):\n",
    "        sum+=i\n",
    "        count=up-lw+1\n",
    "        avg=sum//count\n",
    "    print(avg)\n",
    "\n",
    "average(1000,123456)"
   ]
  },
  {
   "cell_type": "code",
   "execution_count": 6,
   "metadata": {},
   "outputs": [
    {
     "data": {
      "text/plain": [
       "5"
      ]
     },
     "execution_count": 6,
     "metadata": {},
     "output_type": "execute_result"
    }
   ],
   "source": [
    "#Function to check if two strings are anagrams..\n",
    "    # abc cba -> True\n",
    "        # {'a':1,'b':1,'c':1} and {'c':1,'b':1,'a':1}\n",
    "        #Dictionary will not follow any order\n",
    "    # abc cab -> False\n",
    "    # aabbcc ccbbaaa->False\n",
    "        # {a:2,b:2,c:2} {c:2,b:2,a:3}\n",
    "\n",
    "\n",
    "def checkAnagrams(s1,s2):\n",
    "    if len(s1)!=len(s2):\n",
    "        return False\n",
    "    else:\n",
    "        if(sorted(s1)==sorted(s2)):\n",
    "            return True\n",
    "\n",
    "def charDeletionsAnagrams(s1,s2):\n",
    "    uncommon=[]\n",
    "    for i in s1:\n",
    "        if i not in s2:\n",
    "            uncommon.append(i)\n",
    "    for i in s2:\n",
    "        if i not in s1:\n",
    "            uncommon.append(i)\n",
    "    count=len(uncommon)\n",
    "    frq1={}\n",
    "    frq2={}\n",
    "    uniqs1=[]\n",
    "    uniqs2=[]\n",
    "    for i in s1:\n",
    "        if i not in uncommon and i not in uniqs1:\n",
    "            frq1[i]=s1.count(i)\n",
    "            uniqs1.append(i)\n",
    "    for i in s2:\n",
    "        if i not in uncommon and i not in uniqs2:\n",
    "            frq2[i]=s2.count(i)\n",
    "            uniqs2.append(i)\n",
    "    for key in frq1.keys():\n",
    "        count+=abs(frq1[key]-frq2[key])\n",
    "    return count\n",
    "charDeletionsAnagrams('abcdere','cfde')"
   ]
  },
  {
   "cell_type": "code",
   "execution_count": null,
   "metadata": {},
   "outputs": [],
   "source": [
    "def KLargestFrequency(s,k):\n",
    "    unique=[]\n",
    "    frq={}\n",
    "    for i in s:\n",
    "        if i not in frq.keys():\n",
    "            frq[i]=s.count(i)\n",
    "    values="
   ]
  },
  {
   "cell_type": "code",
   "execution_count": null,
   "metadata": {},
   "outputs": [],
   "source": []
  },
  {
   "cell_type": "code",
   "execution_count": null,
   "metadata": {},
   "outputs": [],
   "source": []
  }
 ],
 "metadata": {
  "kernelspec": {
   "display_name": "Python 3",
   "language": "python",
   "name": "python3"
  },
  "language_info": {
   "codemirror_mode": {
    "name": "ipython",
    "version": 3
   },
   "file_extension": ".py",
   "mimetype": "text/x-python",
   "name": "python",
   "nbconvert_exporter": "python",
   "pygments_lexer": "ipython3",
   "version": "3.7.3"
  }
 },
 "nbformat": 4,
 "nbformat_minor": 2
}
