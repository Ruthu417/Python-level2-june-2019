{
 "cells": [
  {
   "cell_type": "code",
   "execution_count": 1,
   "metadata": {},
   "outputs": [
    {
     "name": "stdout",
     "output_type": "stream",
     "text": [
      "Enter the number to know the corresponding week :5\n",
      "Friday\n"
     ]
    }
   ],
   "source": [
    "d=input(\"Enter the number to know the corresponding week :\")\n",
    "days={\"1\":\"Monday\",\"2\":\"Tuesday\",\"3\":\"Wednesday\",\"4\":\"Thursday\",\"5\":\"Friday\",\"6\":\"Saturday\",\"7\":\"Sunday\"}\n",
    "if(d=='1'):\n",
    "    print(days['1']\n",
    "elif (d=='2'):\n",
    "    print(days['2'])\n",
    "elif d=='3':\n",
    "    print(days['3'])\n",
    "elif d=='4':\n",
    "    print(days['4'])\n",
    "elif d=='5':\n",
    "    print(days['5'])\n",
    "elif d=='6':\n",
    "    print(days['6'])\n",
    "elif d=='7':\n",
    "    print(days.['7']\n",
    "else:\n",
    "    print(\"Wrong input\")"
   ]
  },
  {
   "cell_type": "code",
   "execution_count": 1,
   "metadata": {},
   "outputs": [
    {
     "name": "stdout",
     "output_type": "stream",
     "text": [
      "Enter the number that you want to know the week :7\n",
      "Sunday\n"
     ]
    }
   ],
   "source": [
    "days={1:\"Monday\",2:\"Tuesday\",3:\"Wednesday\",4:\"Thursday\",5:\"Friday\",6:\"Saturday\",7:\"Sunday\"}\n",
    "d=int(input(\"Enter the number that you want to know the week :\"))\n",
    "if(d==1):\n",
    "     print(days.get(1))\n",
    "elif(d==2):\n",
    "    print(days.get(2))\n",
    "elif d==3:\n",
    "    print(days.get(3))\n",
    "elif d==4:\n",
    "    print(days.get(4))\n",
    "elif d==5:\n",
    "    print(days.get(5))\n",
    "elif d==6:\n",
    "    print(days.get(6))\n",
    "elif d==7:\n",
    "    print(days.get(7))\n",
    "else:\n",
    "    print(\"Wrong input\")\n"
   ]
  },
  {
   "cell_type": "code",
   "execution_count": null,
   "metadata": {},
   "outputs": [],
   "source": []
  }
 ],
 "metadata": {
  "kernelspec": {
   "display_name": "Python 3",
   "language": "python",
   "name": "python3"
  },
  "language_info": {
   "codemirror_mode": {
    "name": "ipython",
    "version": 3
   },
   "file_extension": ".py",
   "mimetype": "text/x-python",
   "name": "python",
   "nbconvert_exporter": "python",
   "pygments_lexer": "ipython3",
   "version": "3.7.3"
  }
 },
 "nbformat": 4,
 "nbformat_minor": 2
}
