{
 "cells": [
  {
   "cell_type": "code",
   "execution_count": 15,
   "metadata": {},
   "outputs": [
    {
     "data": {
      "text/plain": [
       "0"
      ]
     },
     "execution_count": 15,
     "metadata": {},
     "output_type": "execute_result"
    }
   ],
   "source": [
    "def countNumbers(l,r,k):\n",
    "    count=0\n",
    "    for i in range(l,r+1):\n",
    "        if (i%k==0):\n",
    "            count+1\n",
    "    return count\n",
    "countNumbers(1,10,1)"
   ]
  },
  {
   "cell_type": "code",
   "execution_count": null,
   "metadata": {},
   "outputs": [],
   "source": []
  },
  {
   "cell_type": "code",
   "execution_count": 54,
   "metadata": {},
   "outputs": [
    {
     "name": "stdout",
     "output_type": "stream",
     "text": [
      "Factorial value is\n"
     ]
    },
    {
     "data": {
      "text/plain": [
       "120"
      ]
     },
     "execution_count": 54,
     "metadata": {},
     "output_type": "execute_result"
    }
   ],
   "source": [
    "#Function to print factorial of a number\n",
    "\n",
    "def Factorial(n):\n",
    "    print(\"Factorial value is\")\n",
    "    fact=1\n",
    "    for i in range(1,n+1):\n",
    "        fact*=i\n",
    "    return fact\n",
    "Factorial(5)"
   ]
  },
  {
   "cell_type": "code",
   "execution_count": null,
   "metadata": {},
   "outputs": [],
   "source": []
  },
  {
   "cell_type": "code",
   "execution_count": 1,
   "metadata": {},
   "outputs": [
    {
     "name": "stdout",
     "output_type": "stream",
     "text": [
      "madam\n",
      "madam\n",
      "Yes\n"
     ]
    }
   ],
   "source": [
    "\n",
    "def isPalindrome(st):\n",
    "    if st==st[::-1]:\n",
    "        return True\n",
    "    else:\n",
    "        return False\n",
    "isPalindrome(\"Malayalam\")\n",
    "\n",
    "\n",
    "\n",
    "s=input()\n",
    "def palindrome(s):\n",
    "    rev=s[-1::-1]\n",
    "    print(rev)\n",
    "    if(rev==s):\n",
    "        print(\"Yes\")\n",
    "    else:\n",
    "        print(\"No\")\n",
    "    return\n",
    "palindrome(s)"
   ]
  },
  {
   "cell_type": "code",
   "execution_count": null,
   "metadata": {},
   "outputs": [],
   "source": []
  },
  {
   "cell_type": "code",
   "execution_count": 17,
   "metadata": {},
   "outputs": [
    {
     "name": "stdout",
     "output_type": "stream",
     "text": [
      "2 3 5 7 "
     ]
    }
   ],
   "source": [
    "def prime_range(n):\n",
    "        for i in range(1,n+1):\n",
    "            count=0\n",
    "            for j in range(1,i):\n",
    "                if(i%j==0):\n",
    "                    count+=1\n",
    "            if count==1:\n",
    "                print(i,end=\" \")\n",
    "            else:\n",
    "                i=i+1\n",
    "prime_range(9)"
   ]
  },
  {
   "cell_type": "code",
   "execution_count": 86,
   "metadata": {},
   "outputs": [
    {
     "name": "stdout",
     "output_type": "stream",
     "text": [
      " ABCDe\n",
      "\n"
     ]
    }
   ],
   "source": [
    "#Function to print Toggle String\n",
    "\n",
    "def toggleString():\n",
    "    st=input(\" \")\n",
    "    new=\"\"\n",
    "    capitals=['A','B','C','D','E']\n",
    "    small=['a','b','c','d','e']\n",
    "    for i in s:\n",
    "        if i in capitals:\n",
    "            n=capitals.index(i)\n",
    "            new=new+small[n]\n",
    "        if i in small:\n",
    "            m=small.index(i)\n",
    "            new=new+capitasl[m]\n",
    "    \n",
    "    print(new)\n",
    "toggleString()"
   ]
  },
  {
   "cell_type": "code",
   "execution_count": 80,
   "metadata": {},
   "outputs": [
    {
     "data": {
      "text/plain": [
       "'H'"
      ]
     },
     "execution_count": 80,
     "metadata": {},
     "output_type": "execute_result"
    }
   ],
   "source": [
    "a=\"hai\"\n",
    "type(a)\n",
    "a[0].upper()"
   ]
  },
  {
   "cell_type": "code",
   "execution_count": null,
   "metadata": {},
   "outputs": [],
   "source": []
  },
  {
   "cell_type": "code",
   "execution_count": 91,
   "metadata": {},
   "outputs": [
    {
     "name": "stdout",
     "output_type": "stream",
     "text": [
      "2 3 5 7 2 3 5 7 11 13 17 19 "
     ]
    }
   ],
   "source": [
    "# Function to generate Primes using 2 functions\n",
    "\n",
    "\n",
    "def isPrime(n):\n",
    "    count=0\n",
    "    for i in range(1,n+1):\n",
    "        if(n%i==0):\n",
    "            count+=1\n",
    "    if(count==2):\n",
    "        return True\n",
    "    else:\n",
    "        return False\n",
    "isPrime(9)\n",
    "\n",
    "def primeNumbers(x):\n",
    "    for i in range(1,x+1):\n",
    "        if(isPrime(i)==True):\n",
    "            print(i,end=\" \")\n",
    "primeNumbers(9)\n",
    "#Function to generate prime no.s up to number\n",
    "\n",
    "def prime_range(n):\n",
    "        for i in range(1,n+1):\n",
    "            count=0\n",
    "            for j in range(1,i):\n",
    "                if(i%j==0):\n",
    "                    count+=1\n",
    "            if count==1:\n",
    "                print(i,end=\" \")\n",
    "            else:\n",
    "                i=i+1\n",
    "prime_range(20)"
   ]
  },
  {
   "cell_type": "code",
   "execution_count": null,
   "metadata": {},
   "outputs": [],
   "source": []
  },
  {
   "cell_type": "code",
   "execution_count": 78,
   "metadata": {},
   "outputs": [
    {
     "name": "stdout",
     "output_type": "stream",
     "text": [
      "Yes\n"
     ]
    }
   ],
   "source": [
    "#Function to Two strings\n",
    "\n",
    "s=\"abc bca\"\n",
    "s=s.split()\n",
    "s1=s[0]\n",
    "s2=s[1]\n",
    "\n",
    "\"\"\" sm1=0\n",
    "sm2=0\n",
    "for ch in s1:\n",
    "    sm1+=ord(ch)\n",
    "print(sm1)\n",
    "\n",
    "for ch2 in s2:\n",
    "    sm2+=ord(ch2)\n",
    "print(sm2)\n",
    "if(sm1==sm2):\n",
    "    print(\"Yes\")\n",
    "else:\n",
    "    print(\"No\") \"\"\"\n",
    "\n",
    "\n",
    "sorted(s1)\n",
    "sorted(s2)\n",
    "if(sorted(s1)==sorted(s2)):\n",
    "    print(\"Yes\")\n",
    "else:\n",
    "    print(\"No\")"
   ]
  },
  {
   "cell_type": "code",
   "execution_count": 5,
   "metadata": {},
   "outputs": [
    {
     "name": "stdout",
     "output_type": "stream",
     "text": [
      "aba\n",
      "sum of characters is  292\n"
     ]
    }
   ],
   "source": [
    "#Function to count the characters in sum\n",
    "\n",
    "\"\"\" s=input()\n",
    "count=0\n",
    "for ch in s:\n",
    "    count+=1\n",
    "print(\"The no.of characters is \",count) \"\"\"\n",
    "\n",
    "    \n",
    "# counting the characters...\n",
    "def sum_char():\n",
    "    s=input()\n",
    "    sum=0\n",
    "    for ch in s:\n",
    "        if(ch>='A' and ch<='Z'):\n",
    "            sum+=ord(ch)\n",
    "        elif(ch>='a' and ch<='z'):\n",
    "            sum+=ord(ch)\n",
    "    print(\"sum of characters is \",sum)\n",
    "sum_char()"
   ]
  },
  {
   "cell_type": "code",
   "execution_count": 3,
   "metadata": {},
   "outputs": [
    {
     "ename": "NameError",
     "evalue": "name 's' is not defined",
     "output_type": "error",
     "traceback": [
      "\u001b[1;31m---------------------------------------------------------------------------\u001b[0m",
      "\u001b[1;31mNameError\u001b[0m                                 Traceback (most recent call last)",
      "\u001b[1;32m<ipython-input-3-cbaea611ec8b>\u001b[0m in \u001b[0;36m<module>\u001b[1;34m\u001b[0m\n\u001b[0;32m      8\u001b[0m         \u001b[1;32mreturn\u001b[0m \u001b[0msum\u001b[0m\u001b[1;33m\u001b[0m\u001b[1;33m\u001b[0m\u001b[0m\n\u001b[0;32m      9\u001b[0m     \u001b[0ms\u001b[0m\u001b[1;33m=\u001b[0m\u001b[0minput\u001b[0m\u001b[1;33m(\u001b[0m\u001b[1;33m)\u001b[0m\u001b[1;33m\u001b[0m\u001b[1;33m\u001b[0m\u001b[0m\n\u001b[1;32m---> 10\u001b[1;33m \u001b[0mweightOfAlphabet\u001b[0m\u001b[1;33m(\u001b[0m\u001b[0ms\u001b[0m\u001b[1;33m)\u001b[0m\u001b[1;33m\u001b[0m\u001b[1;33m\u001b[0m\u001b[0m\n\u001b[0m",
      "\u001b[1;31mNameError\u001b[0m: name 's' is not defined"
     ]
    }
   ],
   "source": [
    "#Function to sum the characters in a string\n",
    "\n",
    "def weightOfAlphabet(s):\n",
    "    sum=0\n",
    "    for i in range(0,len(s)):\n",
    "        w=(ord(s[i])-96)\n",
    "        sum+=w\n",
    "        return sum\n",
    "    s=input()\n",
    "weightOfAlphabet(s)"
   ]
  },
  {
   "cell_type": "code",
   "execution_count": null,
   "metadata": {},
   "outputs": [],
   "source": []
  }
 ],
 "metadata": {
  "kernelspec": {
   "display_name": "Python 3",
   "language": "python",
   "name": "python3"
  },
  "language_info": {
   "codemirror_mode": {
    "name": "ipython",
    "version": 3
   },
   "file_extension": ".py",
   "mimetype": "text/x-python",
   "name": "python",
   "nbconvert_exporter": "python",
   "pygments_lexer": "ipython3",
   "version": "3.7.3"
  }
 },
 "nbformat": 4,
 "nbformat_minor": 2
}
