{
 "cells": [
  {
   "cell_type": "code",
   "execution_count": null,
   "metadata": {},
   "outputs": [],
   "source": [
    "#Fucntion to play with numbers....\n",
    "\n",
    "n=input().split()\n",
    "n[0],n[1]=int(n[0]),int(n[1])\n",
    "\n",
    "#Read array elemtns\n",
    "a=input().split()\n",
    "sum=[] # Initializing cumulative sum array\n",
    "#Cumulative sum\n",
    "for i in range(0,n):\n",
    "    if i==0:    # first element\n",
    "        sum.append(int(a[i]))\n",
    "    else:\n",
    "        sum.append(int(sum[i-1]+int(a[i])))  \n",
    "del a\n",
    "q=[]\n",
    "for k in range(0,n[1]):\n",
    "    inq=input.split()\n",
    "    i=int(inq[0])\n",
    "    j=int(inq[1])\n",
    "    if i>j:\n",
    "        print((sum[j-1]-sum[i-2])//(j-i+1))\n",
    "    else:\n",
    "        print(sum[j-i] //(j-i+1))"
   ]
  },
  {
   "cell_type": "code",
   "execution_count": null,
   "metadata": {},
   "outputs": [],
   "source": []
  },
  {
   "cell_type": "code",
   "execution_count": 14,
   "metadata": {},
   "outputs": [
    {
     "name": "stdout",
     "output_type": "stream",
     "text": [
      "2 5 "
     ]
    },
    {
     "data": {
      "text/plain": [
       "True"
      ]
     },
     "execution_count": 14,
     "metadata": {},
     "output_type": "execute_result"
    }
   ],
   "source": [
    "#Function to deteremine a number is special or not..\n",
    "#Function to check if a number is prime or not\n",
    "#Function to determine no.of prime factors for a given number\n",
    "\n",
    "def isSpecialNumber(n,p):\n",
    "    if numberOfPrimeFactors(n)>=p :\n",
    "        return True\n",
    "    else:\n",
    "        return False\n",
    "\n",
    "\n",
    "def isPrime(n):\n",
    "    flag=1\n",
    "    if n==2:\n",
    "        return True\n",
    "    for i in range(2,n//2+1):\n",
    "        if (n%i==0):\n",
    "            flag=0\n",
    "            return False\n",
    "    if flag==1:\n",
    "        return True\n",
    "\n",
    "def numberOfPrimeFactors(n):\n",
    "    if isPrime(n):\n",
    "        return 1\n",
    "    count=0\n",
    "    for i in range(2,n//2+1):\n",
    "        if isPrime(i) and n%i==0 :\n",
    "            print(i,end=\" \")\n",
    "            count+=1\n",
    "    return count\n",
    "#numberOfPrimeFactors(30)\n",
    "isSpecialNumber(10,2)\n",
    "\n",
    "\n"
   ]
  },
  {
   "cell_type": "code",
   "execution_count": null,
   "metadata": {},
   "outputs": [],
   "source": []
  },
  {
   "cell_type": "code",
   "execution_count": 18,
   "metadata": {},
   "outputs": [
    {
     "name": "stdout",
     "output_type": "stream",
     "text": [
      "2 3 "
     ]
    },
    {
     "data": {
      "text/plain": [
       "True"
      ]
     },
     "execution_count": 18,
     "metadata": {},
     "output_type": "execute_result"
    }
   ],
   "source": [
    "def solution2():\n",
    "    p=int(input())\n",
    "    t=int(input())\n",
    "    for i in range(0,t):\n",
    "        n=int(input())\n",
    "        if isSpecialNumber(n,p):\n",
    "            print(\"YES\")\n",
    "        else:\n",
    "            print(\"NO\")\n",
    "isSpecialNumber(6,2)"
   ]
  },
  {
   "cell_type": "markdown",
   "metadata": {},
   "source": [
    "### Problem: Highest Remainder\n",
    "\n",
    "     Write a program to finda a natural number that is smaller than N and which gives highest remainder when divided by that number.\n",
    "    If there is more than one such number, print the smallest one.\n",
    "    \n",
    "    \n",
    "      N \n",
    "      highest=0\n",
    "      x<N and n%x==highest\n",
    "      10\n",
    "      9 1\n",
    "      8 2\n",
    "      7 3\n",
    "      6 4\n",
    "      5 0\n",
    "      4 2\n",
    "      3 1\n",
    "      \n",
    "      \n",
    "      \n",
    "     30\n",
    "     29 1\n",
    "     28 2\n",
    "     .\n",
    "     .\n",
    "     .\n",
    "     16 14\n",
    "     15 0\n",
    "      \n",
    "      \n",
    "      \n",
    "      \n",
    "      9\n",
    "      8 1\n",
    "      7 2\n",
    "      "
   ]
  },
  {
   "cell_type": "code",
   "execution_count": 32,
   "metadata": {},
   "outputs": [
    {
     "name": "stdout",
     "output_type": "stream",
     "text": [
      "Higest remainder is  17\n"
     ]
    }
   ],
   "source": [
    "#Function to find highest remainder...\n",
    "def highestRemainder(n):\n",
    "    hr=0\n",
    "    value=n\n",
    "    for i in range(n-1,n//2+1,-1):\n",
    "        rem=n%i\n",
    "        if rem > hr:\n",
    "            hr=rem\n",
    "            value=i\n",
    "    print(\"Higest remainder is \",value)\n",
    "    return \n",
    "highestRemainder(30)\n",
    "    "
   ]
  },
  {
   "cell_type": "code",
   "execution_count": null,
   "metadata": {},
   "outputs": [],
   "source": []
  },
  {
   "cell_type": "markdown",
   "metadata": {},
   "source": [
    "## Tuples \n",
    "       t1=()\n",
    "       l=[]\n",
    "    Difference between Lists and Tuples\n",
    "    \n",
    "     Lists are mutable - can be changed/modified\n",
    "      - Used to Access, Modify ,Add ,Dalete data  \n",
    "     Tupelse are immutable - cannot be changed once initialised\n",
    "      - Used to access data only\n",
    "      -All Slicing operations will work here\n"
   ]
  },
  {
   "cell_type": "code",
   "execution_count": 15,
   "metadata": {},
   "outputs": [
    {
     "data": {
      "text/plain": [
       "tuple"
      ]
     },
     "execution_count": 15,
     "metadata": {},
     "output_type": "execute_result"
    }
   ],
   "source": [
    "t1=(1,2,8,6,0)\n",
    "t1[3]  #Accesing the fourth element\n",
    "\n",
    "t1[::] #From first to last\n",
    "t1[3:]\n",
    "t1[len(t1)//2:] # #Access all elements from middle to last\n",
    "t1[-1::-1] # Giving the elements in a tuple in reverse orders , \n",
    "type(t1)"
   ]
  },
  {
   "cell_type": "code",
   "execution_count": null,
   "metadata": {},
   "outputs": [],
   "source": []
  },
  {
   "cell_type": "markdown",
   "metadata": {},
   "source": [
    "## Dictionaries\n",
    "    It works on the concept of Set\n",
    "    Unique data\n",
    "    Keys , Values (key value pair)\n",
    "    Key is the unique identifier for a value\n",
    "    Value is data that can be accessed with a key\n",
    "    "
   ]
  },
  {
   "cell_type": "code",
   "execution_count": 16,
   "metadata": {},
   "outputs": [
    {
     "data": {
      "text/plain": [
       "'value2'"
      ]
     },
     "execution_count": 16,
     "metadata": {},
     "output_type": "execute_result"
    }
   ],
   "source": [
    "d1={\"k\":\"value\",\"k2\":\"value2\"}\n",
    "d1[\"k2\"] # Accessing the value with key"
   ]
  },
  {
   "cell_type": "code",
   "execution_count": 17,
   "metadata": {},
   "outputs": [
    {
     "data": {
      "text/plain": [
       "dict_keys(['k', 'k2'])"
      ]
     },
     "execution_count": 17,
     "metadata": {},
     "output_type": "execute_result"
    }
   ],
   "source": [
    "d1.keys() # Gives a list of all keys in a dict.."
   ]
  },
  {
   "cell_type": "code",
   "execution_count": 18,
   "metadata": {},
   "outputs": [
    {
     "data": {
      "text/plain": [
       "dict_values(['value', 'value2'])"
      ]
     },
     "execution_count": 18,
     "metadata": {},
     "output_type": "execute_result"
    }
   ],
   "source": [
    "d1.values() # Returns the list of values"
   ]
  },
  {
   "cell_type": "code",
   "execution_count": 19,
   "metadata": {},
   "outputs": [
    {
     "data": {
      "text/plain": [
       "dict_items([('k', 'value'), ('k2', 'value2')])"
      ]
     },
     "execution_count": 19,
     "metadata": {},
     "output_type": "execute_result"
    }
   ],
   "source": [
    "d1.items() # list of tuples  or list of key value pairs"
   ]
  },
  {
   "cell_type": "code",
   "execution_count": 22,
   "metadata": {},
   "outputs": [
    {
     "data": {
      "text/plain": [
       "{'k': 'value', 'k2': 'value2', 'k3': 'value3'}"
      ]
     },
     "execution_count": 22,
     "metadata": {},
     "output_type": "execute_result"
    }
   ],
   "source": [
    "d1[\"k3\"]=\"value3\" # Adding new item to the dictionary\n",
    "d1"
   ]
  },
  {
   "cell_type": "code",
   "execution_count": 23,
   "metadata": {},
   "outputs": [
    {
     "data": {
      "text/plain": [
       "{'k': 'value', 'k2': 'value2', 'k3': 'value4'}"
      ]
     },
     "execution_count": 23,
     "metadata": {},
     "output_type": "execute_result"
    }
   ],
   "source": [
    "d1[\"k3\"]=\"value4\" # Updating an element with the same key\n",
    "d1"
   ]
  },
  {
   "cell_type": "code",
   "execution_count": 25,
   "metadata": {},
   "outputs": [
    {
     "data": {
      "text/plain": [
       "{'k': 'value'}"
      ]
     },
     "execution_count": 25,
     "metadata": {},
     "output_type": "execute_result"
    }
   ],
   "source": [
    "d1.pop(\"k2\") # Removing of an element\n",
    "d1"
   ]
  },
  {
   "cell_type": "code",
   "execution_count": 26,
   "metadata": {},
   "outputs": [
    {
     "data": {
      "text/plain": [
       "{'k': 'value', 'k2': 'value2'}"
      ]
     },
     "execution_count": 26,
     "metadata": {},
     "output_type": "execute_result"
    }
   ],
   "source": [
    "d1[\"k2\"]=\"value2\"\n",
    "d1"
   ]
  },
  {
   "cell_type": "code",
   "execution_count": 28,
   "metadata": {},
   "outputs": [
    {
     "data": {
      "text/plain": [
       "{'k': 'value', 'k2': 'value2', 'k4': 'value4'}"
      ]
     },
     "execution_count": 28,
     "metadata": {},
     "output_type": "execute_result"
    }
   ],
   "source": [
    "d1[\"k4\"]=\"value4\"\n",
    "d1"
   ]
  },
  {
   "cell_type": "code",
   "execution_count": 33,
   "metadata": {},
   "outputs": [
    {
     "data": {
      "text/plain": [
       "True"
      ]
     },
     "execution_count": 33,
     "metadata": {},
     "output_type": "execute_result"
    }
   ],
   "source": [
    "\"k3\" in d1  # Checking the value and returns false\n",
    "\"k2\" in d1 # Returns True"
   ]
  },
  {
   "cell_type": "markdown",
   "metadata": {},
   "source": [
    "### Contacts Application\n",
    "- Add Contact\n",
    "- Search for contact\n",
    "- List all contacts\n",
    "       - name1 : phone1\n",
    "       - name2 : phone2\n",
    "- Modify contact\n",
    "- Remove contact\n",
    "\n",
    "\n"
   ]
  },
  {
   "cell_type": "code",
   "execution_count": 7,
   "metadata": {},
   "outputs": [
    {
     "name": "stdout",
     "output_type": "stream",
     "text": [
      "Contact is added\n"
     ]
    },
    {
     "data": {
      "text/plain": [
       "{'Lohitha': '40506'}"
      ]
     },
     "execution_count": 7,
     "metadata": {},
     "output_type": "execute_result"
    }
   ],
   "source": [
    "contacts={}\n",
    "def addContact(name,phone):\n",
    "    #Verify that the contact doesnot alaready exist or not\n",
    "    if name not in contacts:\n",
    "        contacts[name]=phone\n",
    "        print(\"Contact is added\")\n",
    "    else:\n",
    "        print(\"Contact %s already exist\" & name)\n",
    "addContact(\"Lohitha\",\"40506\")\n",
    "contacts\n",
    "    "
   ]
  },
  {
   "cell_type": "code",
   "execution_count": 13,
   "metadata": {},
   "outputs": [
    {
     "name": "stdout",
     "output_type": "stream",
     "text": [
      "Contact is added\n"
     ]
    },
    {
     "data": {
      "text/plain": [
       "{'Lohitha': '40506', 'Ruthu': '67890', 'Vanitha': '98765', 'Srikanya': '43210'}"
      ]
     },
     "execution_count": 13,
     "metadata": {},
     "output_type": "execute_result"
    }
   ],
   "source": [
    "def addContact(name2,phone2):\n",
    "    #Verify that the contact doesnot alaready exist or not\n",
    "    if name2 not in contacts:\n",
    "        contacts[name2]=phone2\n",
    "        print(\"Contact is added\")\n",
    "    else:\n",
    "        print(\"Contact %s already exist\" & name2)\n",
    "addContact(\"Srikanya\",\"43210\")\n",
    "contacts\n",
    "    "
   ]
  },
  {
   "cell_type": "code",
   "execution_count": 9,
   "metadata": {},
   "outputs": [
    {
     "name": "stdout",
     "output_type": "stream",
     "text": [
      "contact %s doesnot Exist ruthu\n",
      "Ruthu : 67890\n"
     ]
    }
   ],
   "source": [
    "def searchContacts(name):\n",
    "    if name in contacts:\n",
    "        print(name,\":\",contacts[name])\n",
    "    else:\n",
    "        print(\"contact %s doesnot Exist\",name)\n",
    "searchContacts(\"ruthu\")\n",
    "\n",
    "searchContacts(\"Ruthu\")"
   ]
  },
  {
   "cell_type": "code",
   "execution_count": 14,
   "metadata": {},
   "outputs": [
    {
     "data": {
      "text/plain": [
       "{'Lohitha': '40506', 'Ruthu': '67890', 'Vanitha': '98765', 'Srikanya': '43210'}"
      ]
     },
     "execution_count": 14,
     "metadata": {},
     "output_type": "execute_result"
    }
   ],
   "source": [
    "contacts"
   ]
  },
  {
   "cell_type": "code",
   "execution_count": 15,
   "metadata": {},
   "outputs": [
    {
     "name": "stdout",
     "output_type": "stream",
     "text": [
      "Lohitha : 40506\n",
      "Ruthu : 67890\n",
      "Vanitha : 98765\n",
      "Srikanya : 43210\n"
     ]
    }
   ],
   "source": [
    "def listOfContacts():\n",
    "    for i,j in contacts.items():\n",
    "            print(i,\":\",j)\n",
    "listOfContacts()\n"
   ]
  },
  {
   "cell_type": "code",
   "execution_count": null,
   "metadata": {},
   "outputs": [],
   "source": []
  },
  {
   "cell_type": "code",
   "execution_count": 22,
   "metadata": {},
   "outputs": [
    {
     "name": "stdout",
     "output_type": "stream",
     "text": [
      "2 contacts added\n"
     ]
    }
   ],
   "source": [
    "#New contacts is given as a dictionary\n",
    "#Merge new contacts with existing contacts\n",
    "def importContacts(newContacts):\n",
    "    contacts.update(newContacts)\n",
    "    print(len(newContacts.keys()),\"contacts added\")\n",
    "    return \n",
    "newContacts={\"ruthu2\":9876543210,\"ruthu3\":6543210987}\n",
    "importContacts(newContacts)"
   ]
  },
  {
   "cell_type": "code",
   "execution_count": 21,
   "metadata": {},
   "outputs": [
    {
     "data": {
      "text/plain": [
       "{'Lohitha': '40506',\n",
       " 'Vanitha': '98765',\n",
       " 'Srikanya': '43210',\n",
       " 'ruthu2': 9876543210,\n",
       " 'ruthu3': 6543210987}"
      ]
     },
     "execution_count": 21,
     "metadata": {},
     "output_type": "execute_result"
    }
   ],
   "source": [
    "contacts"
   ]
  },
  {
   "cell_type": "code",
   "execution_count": 26,
   "metadata": {},
   "outputs": [],
   "source": [
    "#Function to remove contact\n",
    "\n",
    "def removeContact():\n",
    "    contacts.pop(\"ruthu3\")\n",
    "removeContact()\n"
   ]
  },
  {
   "cell_type": "code",
   "execution_count": 28,
   "metadata": {},
   "outputs": [
    {
     "data": {
      "text/plain": [
       "{'Lohitha': '40506', 'Vanitha': '98765', 'Srikanya': '43210'}"
      ]
     },
     "execution_count": 28,
     "metadata": {},
     "output_type": "execute_result"
    }
   ],
   "source": [
    "contacts"
   ]
  },
  {
   "cell_type": "code",
   "execution_count": null,
   "metadata": {},
   "outputs": [],
   "source": []
  },
  {
   "cell_type": "code",
   "execution_count": 14,
   "metadata": {},
   "outputs": [
    {
     "ename": "NameError",
     "evalue": "name 'contacts' is not defined",
     "output_type": "error",
     "traceback": [
      "\u001b[1;31m---------------------------------------------------------------------------\u001b[0m",
      "\u001b[1;31mNameError\u001b[0m                                 Traceback (most recent call last)",
      "\u001b[1;32m<ipython-input-14-b18a7ff260ed>\u001b[0m in \u001b[0;36m<module>\u001b[1;34m\u001b[0m\n\u001b[0;32m      3\u001b[0m \u001b[1;32mdef\u001b[0m \u001b[0mmodifyContact\u001b[0m\u001b[1;33m(\u001b[0m\u001b[1;33m)\u001b[0m\u001b[1;33m:\u001b[0m\u001b[1;33m\u001b[0m\u001b[1;33m\u001b[0m\u001b[0m\n\u001b[0;32m      4\u001b[0m     \u001b[0mcontacts\u001b[0m\u001b[1;33m[\u001b[0m\u001b[1;34m\"Srikanya\"\u001b[0m\u001b[1;33m]\u001b[0m\u001b[1;33m=\u001b[0m\u001b[1;34m\"67890987\"\u001b[0m\u001b[1;33m\u001b[0m\u001b[1;33m\u001b[0m\u001b[0m\n\u001b[1;32m----> 5\u001b[1;33m \u001b[0mmodifyContact\u001b[0m\u001b[1;33m(\u001b[0m\u001b[1;33m)\u001b[0m\u001b[1;33m\u001b[0m\u001b[1;33m\u001b[0m\u001b[0m\n\u001b[0m",
      "\u001b[1;32m<ipython-input-14-b18a7ff260ed>\u001b[0m in \u001b[0;36mmodifyContact\u001b[1;34m()\u001b[0m\n\u001b[0;32m      2\u001b[0m \u001b[1;33m\u001b[0m\u001b[0m\n\u001b[0;32m      3\u001b[0m \u001b[1;32mdef\u001b[0m \u001b[0mmodifyContact\u001b[0m\u001b[1;33m(\u001b[0m\u001b[1;33m)\u001b[0m\u001b[1;33m:\u001b[0m\u001b[1;33m\u001b[0m\u001b[1;33m\u001b[0m\u001b[0m\n\u001b[1;32m----> 4\u001b[1;33m     \u001b[0mcontacts\u001b[0m\u001b[1;33m[\u001b[0m\u001b[1;34m\"Srikanya\"\u001b[0m\u001b[1;33m]\u001b[0m\u001b[1;33m=\u001b[0m\u001b[1;34m\"67890987\"\u001b[0m\u001b[1;33m\u001b[0m\u001b[1;33m\u001b[0m\u001b[0m\n\u001b[0m\u001b[0;32m      5\u001b[0m \u001b[0mmodifyContact\u001b[0m\u001b[1;33m(\u001b[0m\u001b[1;33m)\u001b[0m\u001b[1;33m\u001b[0m\u001b[1;33m\u001b[0m\u001b[0m\n",
      "\u001b[1;31mNameError\u001b[0m: name 'contacts' is not defined"
     ]
    }
   ],
   "source": [
    "#Function to modify items in dictionary\n",
    "\n",
    "def modifyContact():\n",
    "    contacts[\"Srikanya\"]=\"67890987\"\n",
    "modifyContact()"
   ]
  },
  {
   "cell_type": "code",
   "execution_count": null,
   "metadata": {},
   "outputs": [],
   "source": []
  },
  {
   "cell_type": "markdown",
   "metadata": {},
   "source": [
    "## Packsges and Modules\n",
    "\n",
    "\n",
    "- **Package** -> Collection of Modules(Python File.py) and subpackages\n",
    "- **Sub Package**->\n",
    "- **Module**-> A single python file containing functions \n",
    "- Package->Subpackages->Modules->Functions"
   ]
  },
  {
   "cell_type": "code",
   "execution_count": 53,
   "metadata": {},
   "outputs": [
    {
     "data": {
      "text/plain": [
       "3.141592653589793"
      ]
     },
     "execution_count": 53,
     "metadata": {},
     "output_type": "execute_result"
    }
   ],
   "source": [
    "import math             \n",
    "math.floor(124.456) # Returns the floor value i.e., 124 \n",
    "math.pi # Gives the pi value"
   ]
  },
  {
   "cell_type": "code",
   "execution_count": 52,
   "metadata": {},
   "outputs": [
    {
     "data": {
      "text/plain": [
       "124"
      ]
     },
     "execution_count": 52,
     "metadata": {},
     "output_type": "execute_result"
    }
   ],
   "source": [
    "from math import ceil  #Instead of importing the entire module we can import a single function\n",
    "ceil(123.67)"
   ]
  },
  {
   "cell_type": "code",
   "execution_count": 49,
   "metadata": {},
   "outputs": [
    {
     "data": {
      "text/plain": [
       "876"
      ]
     },
     "execution_count": 49,
     "metadata": {},
     "output_type": "execute_result"
    }
   ],
   "source": [
    "from math import floor as f1 #Renaming the function here\n",
    "f1(876.34)"
   ]
  },
  {
   "cell_type": "code",
   "execution_count": 64,
   "metadata": {},
   "outputs": [
    {
     "name": "stdout",
     "output_type": "stream",
     "text": [
      "75 13 41 23 51 50 26 63 40 35 "
     ]
    }
   ],
   "source": [
    "#Function to generate 'N' random no.s..\n",
    "import random \n",
    "random.randint(0,100) #Generated a random  no.\n",
    "\n",
    "def generateNRandomNumbers(n,lb,up):\n",
    "    for i in range(0,n):\n",
    "        print(random.randint(lb,up),end=\" \")\n",
    "generateNRandomNumbers(10,0,100)\n",
    "   "
   ]
  },
  {
   "cell_type": "code",
   "execution_count": null,
   "metadata": {},
   "outputs": [],
   "source": []
  },
  {
   "cell_type": "code",
   "execution_count": 7,
   "metadata": {},
   "outputs": [
    {
     "name": "stdout",
     "output_type": "stream",
     "text": [
      "2 3 "
     ]
    },
    {
     "data": {
      "text/plain": [
       "2"
      ]
     },
     "execution_count": 7,
     "metadata": {},
     "output_type": "execute_result"
    }
   ],
   "source": [
    "from Packages import numerical\n",
    "numerical.numberOfPrimeFactors(96)"
   ]
  },
  {
   "cell_type": "code",
   "execution_count": 12,
   "metadata": {},
   "outputs": [
    {
     "data": {
      "text/plain": [
       "False"
      ]
     },
     "execution_count": 12,
     "metadata": {},
     "output_type": "execute_result"
    }
   ],
   "source": [
    "from Packages import numerical\n",
    "numerical.isPrime(8)"
   ]
  },
  {
   "cell_type": "code",
   "execution_count": 11,
   "metadata": {},
   "outputs": [
    {
     "name": "stdout",
     "output_type": "stream",
     "text": [
      "14 13 12 11 10 9 8 7 6 5 "
     ]
    }
   ],
   "source": [
    "from Packages import numerical \n",
    "numerical.printReverse(15,5)"
   ]
  },
  {
   "cell_type": "code",
   "execution_count": 2,
   "metadata": {},
   "outputs": [
    {
     "data": {
      "text/plain": [
       "24"
      ]
     },
     "execution_count": 2,
     "metadata": {},
     "output_type": "execute_result"
    }
   ],
   "source": [
    "from Packages import numerical as n\n",
    "n.factorial(4)"
   ]
  },
  {
   "cell_type": "code",
   "execution_count": 3,
   "metadata": {},
   "outputs": [
    {
     "data": {
      "text/plain": [
       "False"
      ]
     },
     "execution_count": 3,
     "metadata": {},
     "output_type": "execute_result"
    }
   ],
   "source": [
    "from Packages import numerical as p\n",
    "p.isPerfect(8)"
   ]
  },
  {
   "cell_type": "code",
   "execution_count": null,
   "metadata": {},
   "outputs": [],
   "source": []
  }
 ],
 "metadata": {
  "kernelspec": {
   "display_name": "Python 3",
   "language": "python",
   "name": "python3"
  },
  "language_info": {
   "codemirror_mode": {
    "name": "ipython",
    "version": 3
   },
   "file_extension": ".py",
   "mimetype": "text/x-python",
   "name": "python",
   "nbconvert_exporter": "python",
   "pygments_lexer": "ipython3",
   "version": "3.7.3"
  }
 },
 "nbformat": 4,
 "nbformat_minor": 2
}
