{
 "cells": [
  {
   "cell_type": "code",
   "execution_count": 13,
   "metadata": {},
   "outputs": [
    {
     "data": {
      "text/plain": [
       "['a', <function str.upper()>, 'c']"
      ]
     },
     "execution_count": 13,
     "metadata": {},
     "output_type": "execute_result"
    }
   ],
   "source": [
    "#Function to Toggle String characters by sir\n",
    "\n",
    "s=\"Abc\"\n",
    "s.islower() # Returned false\n",
    "s.isupper()\n",
    "\n",
    "\n",
    "s2=\"Hai\"\n",
    "s2.isupper() # Returns false because it will return true only if all characters are Uppercase letters\n",
    "s2.isupper() # It also return the false because \n",
    "s2.lower() # Converts the entire string to lowercaase letters\n",
    "s2.upper() # Converts the entire string to uppercase letters\n",
    "s.split() # It is  giving the string as an element but it not convert the string into a charcter's list\n",
    "list(s) # Gave me the list of characters \n",
    "s=llist(s)\n"
   ]
  },
  {
   "cell_type": "code",
   "execution_count": null,
   "metadata": {},
   "outputs": [],
   "source": []
  },
  {
   "cell_type": "code",
   "execution_count": 18,
   "metadata": {},
   "outputs": [
    {
     "data": {
      "text/plain": [
       "'aBc'"
      ]
     },
     "execution_count": 18,
     "metadata": {},
     "output_type": "execute_result"
    }
   ],
   "source": [
    "# Function to print Toggle String using list\n",
    "def toggleString(s):\n",
    "    s=list(s)\n",
    "    t=[]\n",
    "    for c in s:\n",
    "        if c.islower():\n",
    "            t.append(c.upper())\n",
    "        else:\n",
    "            t.append(c.lower())\n",
    "    return \"\".join(t)\n",
    "toggleString(\"AbC\")\n",
    "\n",
    "\n",
    "\n",
    "    "
   ]
  },
  {
   "cell_type": "code",
   "execution_count": null,
   "metadata": {},
   "outputs": [],
   "source": []
  },
  {
   "cell_type": "code",
   "execution_count": 19,
   "metadata": {},
   "outputs": [
    {
     "data": {
      "text/plain": [
       "'aBc'"
      ]
     },
     "execution_count": 19,
     "metadata": {},
     "output_type": "execute_result"
    }
   ],
   "source": [
    "# Function to print ToggleString without using list\n",
    "def toggleString2(s):\n",
    "    s=list(s)\n",
    "    t=\"\"\n",
    "    for c in s:\n",
    "        if c.islower():\n",
    "            t+=c.upper()\n",
    "        else:\n",
    "            t+=c.lower()\n",
    "    return t\n",
    "toggleString(\"AbC\")\n",
    "\n"
   ]
  },
  {
   "cell_type": "code",
   "execution_count": null,
   "metadata": {},
   "outputs": [],
   "source": []
  },
  {
   "cell_type": "markdown",
   "metadata": {},
   "source": [
    "#### Problem\":Duration\n",
    "\n",
    "**Input**: start time , end time (HH MM)<br>\n",
    "        HH-{00,01,02...23} - {00 00, 23 59}<br>\n",
    "        MM-{00,01,02,03...59} - {00 00, 23 59}<br>\n",
    "        HH MM-{00 00, 23 59}<br>\n",
    "**Ouput**: time difference in HH MM <br>\n"
   ]
  },
  {
   "cell_type": "code",
   "execution_count": 27,
   "metadata": {},
   "outputs": [
    {
     "name": "stdout",
     "output_type": "stream",
     "text": [
      "5 41\n"
     ]
    }
   ],
   "source": [
    "#Fucntion to Duration\n",
    "# Calculate the time difference as total no.of minutes\n",
    "#Convert the toal minutes into HH MM\n",
    "s= \" 2 42 8 23\"\n",
    "def minuteDifference(s):    \n",
    "    s=s.split()\n",
    "    sh=int(s[0])\n",
    "    sm=int(s[1])\n",
    "    eh=int(s[2])\n",
    "    em=int(s[3])\n",
    "    start_minutes=sh*60+sm\n",
    "    end_minutes=eh*60+em\n",
    "    return end_minutes - start_minutes\n",
    "\n",
    "def outputTimeFormat(minutes):\n",
    "    #Convert minutes to HH MM\n",
    "    hh=minutes//60\n",
    "    mm=minutes%60\n",
    "    print(hh,mm)\n",
    "    return \n",
    "minutes=minuteDifference(s)\n",
    "outputTimeFormat(minutes)"
   ]
  },
  {
   "cell_type": "code",
   "execution_count": null,
   "metadata": {},
   "outputs": [],
   "source": []
  },
  {
   "cell_type": "markdown",
   "metadata": {},
   "source": [
    "### Problen: Play with Numbers\n",
    "**Line 1**: Array size(n), no.of queries(q) <br>\n",
    "**Line2**: N array elements<br>\n",
    "next q lines: query -sub array of the original array<br>\n",
    "\n",
    " 5 2<br>\n",
    " 1 2 3 4 5<br>\n",
    " 1 2<br>\n",
    " 0 5<br>\n",
    " \n"
   ]
  },
  {
   "cell_type": "code",
   "execution_count": 30,
   "metadata": {},
   "outputs": [
    {
     "name": "stdout",
     "output_type": "stream",
     "text": [
      "5\n",
      "1 2 3 4 5 "
     ]
    }
   ],
   "source": [
    "#Function to play with numbers\n",
    "st=\"\"\n",
    "n=int(input())\n",
    "q=int(input())\n",
    "li=[]\n",
    "li=li.split()\n",
    "q=[]\n",
    "q=q.split()\n",
    "def playWithNumbers(n,q):\n",
    "    for i in range(1,n+1):\n",
    "        li[i].append()\n",
    "        q[i].append()\n",
    "        print(i,end=\" \")\n",
    "playWithNumbers(n)"
   ]
  },
  {
   "cell_type": "code",
   "execution_count": 19,
   "metadata": {},
   "outputs": [
    {
     "ename": "AttributeError",
     "evalue": "'int' object has no attribute 'isnumeric'",
     "output_type": "error",
     "traceback": [
      "\u001b[1;31m---------------------------------------------------------------------------\u001b[0m",
      "\u001b[1;31mAttributeError\u001b[0m                            Traceback (most recent call last)",
      "\u001b[1;32m<ipython-input-19-17c6800683c8>\u001b[0m in \u001b[0;36m<module>\u001b[1;34m\u001b[0m\n\u001b[0;32m      1\u001b[0m \u001b[0mn\u001b[0m\u001b[1;33m=\u001b[0m\u001b[1;36m10\u001b[0m\u001b[1;33m\u001b[0m\u001b[1;33m\u001b[0m\u001b[0m\n\u001b[1;32m----> 2\u001b[1;33m \u001b[0mn\u001b[0m\u001b[1;33m.\u001b[0m\u001b[0misnumeric\u001b[0m\u001b[1;33m(\u001b[0m\u001b[1;33m)\u001b[0m\u001b[1;33m\u001b[0m\u001b[1;33m\u001b[0m\u001b[0m\n\u001b[0m",
      "\u001b[1;31mAttributeError\u001b[0m: 'int' object has no attribute 'isnumeric'"
     ]
    }
   ],
   "source": [
    "n=10\n",
    "n.isnumeric()\n"
   ]
  },
  {
   "cell_type": "code",
   "execution_count": 52,
   "metadata": {},
   "outputs": [
    {
     "name": "stdout",
     "output_type": "stream",
     "text": [
      "2\n",
      "5\n",
      "Yes\n"
     ]
    }
   ],
   "source": [
    "#Function to print prime factors of a given number..\n",
    "def isPrime(n):\n",
    "    count=0\n",
    "    for i in range(1,n+1):\n",
    "        if(n%i==0):\n",
    "            count+=1\n",
    "    if(count==2):\n",
    "        return True\n",
    "    else:\n",
    "        return False\n",
    "\n",
    "def prime_factors(p,res):\n",
    "    sum=0\n",
    "    for i in range(2,res):\n",
    "        if(res%i==0):\n",
    "            isPrime(i)\n",
    "            sum=sum+1\n",
    "            print(i)\n",
    "    if(sum==p):\n",
    "        print(\"Yes\")\n",
    "    else:\n",
    "        print(\"No\")\n",
    "prime_factors(2,10)"
   ]
  },
  {
   "cell_type": "code",
   "execution_count": null,
   "metadata": {},
   "outputs": [],
   "source": []
  },
  {
   "cell_type": "code",
   "execution_count": 70,
   "metadata": {},
   "outputs": [],
   "source": [
    "#Fucntion to count no.of digits and characters in string\n",
    "\n",
    "def count_digits_char(st):\n",
    "    digit_count=0\n",
    "    char_count=0\n",
    "    st=[]\n",
    "    n=len(st)\n",
    "    for i in range(1,n+1):\n",
    "        if (st[i]==st[i].isdigit()):\n",
    "            digit_count+=1\n",
    "        print(digit_count)\n",
    "count_digits_char(\"aZ12\")\n",
    "        "
   ]
  },
  {
   "cell_type": "code",
   "execution_count": null,
   "metadata": {},
   "outputs": [],
   "source": []
  },
  {
   "cell_type": "code",
   "execution_count": null,
   "metadata": {},
   "outputs": [],
   "source": []
  },
  {
   "cell_type": "code",
   "execution_count": null,
   "metadata": {},
   "outputs": [],
   "source": []
  },
  {
   "cell_type": "code",
   "execution_count": null,
   "metadata": {},
   "outputs": [],
   "source": []
  }
 ],
 "metadata": {
  "kernelspec": {
   "display_name": "Python 3",
   "language": "python",
   "name": "python3"
  },
  "language_info": {
   "codemirror_mode": {
    "name": "ipython",
    "version": 3
   },
   "file_extension": ".py",
   "mimetype": "text/x-python",
   "name": "python",
   "nbconvert_exporter": "python",
   "pygments_lexer": "ipython3",
   "version": "3.7.3"
  }
 },
 "nbformat": 4,
 "nbformat_minor": 2
}
