{
 "cells": [
  {
   "cell_type": "markdown",
   "metadata": {},
   "source": [
    "## Day Objectives\n",
    "### Regular Expressions\n",
    "- Constructing Regular Expressions for various use cases\n",
    "- Regular Expressions Module and related in Python\n",
    "- Improving the Contacts application with name and phone number validation using Regular Expressions\n",
    "### File Handling\n",
    "- Text Files\n",
    "- Upgrading the Contacts Application to store contact information in  a text file"
   ]
  },
  {
   "cell_type": "markdown",
   "metadata": {},
   "source": [
    "###  Regular Expressions\n",
    "- Pattern Matching\n",
    "-  Symbolic Notation of a pattern\n",
    "    - Pattern : Format which repeats\n",
    "    - Pattern (RE)- Represents the set of all strings/data/values which matches that pattern\n",
    "- [0-9] -> Any digit from 0 to 9\n",
    "- [a-z] -> Any lower case character/alphabet\n",
    "- [2468]-> All single digit multiples of 2 \n",
    "    -[8624]\n",
    "    -[4826]\n",
    "- ^[0-9]{1}$-> Only single digit numbers\n",
    "- ^[0-9]{3}$->Only 3 digit numbers we can access\n",
    "- ^[0-9]{5}$-> Only 5 digit numbers can be accessed and highlighted like that and so on and if we remove $ in the expresssion it will highlight only upto the index we gave\n",
    "- [0-9]*0$ -> All multiples of 10\n",
    "        * represents the repeatition of any digitr\n",
    "- ^[1-9][0-9]*0$ ->Multtiples of 10\n",
    " \n",
    "-  ^[0-9]{1$  -> All multiples of 10\n",
    "- ^[0-9]{10}$   -> All 10 digit numbers -> \n",
    "- ^[1-9][0-9]*[05]$ -> Multiples of 5 otherthan 5 then\n",
    "    - ^([1-9][0-9]*[05])$ |^([5])$ -> All multiples of 5 including 5\n",
    "- ^[6-9][0-9]{10}$|[0][6-9][0-9]{9}$|^[+][9][1][6-9][0-9]{9}$\n",
    "-    -> Validating Phone number{India)(start with 9876 followed by 9 digit number)\n",
    "-  Email Validation(username@domain.extension )\n",
    "          - username\n",
    "             - Length of username : [5-13]\n",
    "             - No special characters other than _ .\n",
    "             - Should not begin and end with _ .\n",
    "             - Should begin and end with lowercase alphabet\n",
    "             - Character set : all digits and alphabet\n",
    "             \n",
    "         - domain\n",
    "             - Length of domain : [3-18]\n",
    "             - No special characters \n",
    "             - Character set: all digits and alphabet\n",
    "          - Extension : \n",
    "             - Length : [2,4]\n",
    "             - No special characters\n",
    "             - Character set :only lowercase alphabet\n",
    "             \n",
    "     - ^[0-9a-z][0-9a-z_.]{4,13}[0-9a-z][@][a-z0-9]{3,18}[.][a-z]{2,4}$ # Regular Expression\n",
    "- makes the solution very easy \n",
    "- [w][o][r][d] -> to searh a word in text\n",
    "    - (word) -> is also work \n",
    " \n",
    "     - ^[a].*[z]$\n",
    "- -> Any string of any length that startw with 'a' and end with 'z' \n",
    "\n",
    "\n"
   ]
  },
  {
   "cell_type": "code",
   "execution_count": 11,
   "metadata": {},
   "outputs": [
    {
     "name": "stdout",
     "output_type": "stream",
     "text": [
      "Invalid number\n"
     ]
    }
   ],
   "source": [
    "#Function to validate a phone number\n",
    "\n",
    "import re\n",
    "def validatePhoneNumber(number):\n",
    "    pattern='^[6-9][0-9]{10}$|[0][6-9][0-9]{9}$|^[+][9][1][6-9][0-9]{9}$'\n",
    "    if re.match(pattern,str(number)):\n",
    "        print(\"Valid number\")\n",
    "    else:\n",
    "        print(\"Invalid number\")\n",
    "    return \n",
    "validatePhoneNumber(9876543210)"
   ]
  },
  {
   "cell_type": "code",
   "execution_count": null,
   "metadata": {},
   "outputs": [],
   "source": []
  },
  {
   "cell_type": "code",
   "execution_count": 2,
   "metadata": {},
   "outputs": [
    {
     "ename": "NameError",
     "evalue": "name 'validatePhoneNumber' is not defined",
     "output_type": "error",
     "traceback": [
      "\u001b[1;31m---------------------------------------------------------------------------\u001b[0m",
      "\u001b[1;31mNameError\u001b[0m                                 Traceback (most recent call last)",
      "\u001b[1;32m<ipython-input-2-2d0c3a32f11c>\u001b[0m in \u001b[0;36m<module>\u001b[1;34m\u001b[0m\n\u001b[0;32m     20\u001b[0m     \u001b[1;32mreturn\u001b[0m\u001b[1;33m\u001b[0m\u001b[1;33m\u001b[0m\u001b[0m\n\u001b[0;32m     21\u001b[0m \u001b[1;33m\u001b[0m\u001b[0m\n\u001b[1;32m---> 22\u001b[1;33m \u001b[0maddContact\u001b[0m\u001b[1;33m(\u001b[0m\u001b[1;34m\"name3\"\u001b[0m\u001b[1;33m,\u001b[0m \u001b[1;36m9876543211\u001b[0m\u001b[1;33m,\u001b[0m \u001b[1;34m\"name321@gmail.com\"\u001b[0m\u001b[1;33m)\u001b[0m\u001b[1;33m\u001b[0m\u001b[1;33m\u001b[0m\u001b[0m\n\u001b[0m",
      "\u001b[1;32m<ipython-input-2-2d0c3a32f11c>\u001b[0m in \u001b[0;36maddContact\u001b[1;34m(name, phone, email)\u001b[0m\n\u001b[0;32m      7\u001b[0m         \u001b[1;32mreturn\u001b[0m\u001b[1;33m\u001b[0m\u001b[1;33m\u001b[0m\u001b[0m\n\u001b[0;32m      8\u001b[0m     \u001b[1;32melse\u001b[0m\u001b[1;33m:\u001b[0m\u001b[1;33m\u001b[0m\u001b[1;33m\u001b[0m\u001b[0m\n\u001b[1;32m----> 9\u001b[1;33m         \u001b[1;32mif\u001b[0m \u001b[1;32mnot\u001b[0m \u001b[0mvalidatePhoneNumber\u001b[0m\u001b[1;33m(\u001b[0m\u001b[0mphone\u001b[0m\u001b[1;33m)\u001b[0m\u001b[1;33m:\u001b[0m\u001b[1;33m\u001b[0m\u001b[1;33m\u001b[0m\u001b[0m\n\u001b[0m\u001b[0;32m     10\u001b[0m             \u001b[0mprint\u001b[0m\u001b[1;33m(\u001b[0m\u001b[1;34m\"Invalid Phone number\"\u001b[0m\u001b[1;33m)\u001b[0m\u001b[1;33m\u001b[0m\u001b[1;33m\u001b[0m\u001b[0m\n\u001b[0;32m     11\u001b[0m             \u001b[1;32mreturn\u001b[0m\u001b[1;33m\u001b[0m\u001b[1;33m\u001b[0m\u001b[0m\n",
      "\u001b[1;31mNameError\u001b[0m: name 'validatePhoneNumber' is not defined"
     ]
    }
   ],
   "source": [
    "contacts = {\"name1\":[9876543210, 'name1@domain.ext'], \"name2\":[7654321098, \"name2@domain.ext\"]}\n",
    "\n",
    "def addContact(name, phone, email):\n",
    "    #verify that the contact doesnot already exist\n",
    "    if name in contacts:\n",
    "        print(name, \"already exists.\")\n",
    "        return\n",
    "    else:\n",
    "        if not validatePhoneNumber(phone):\n",
    "            print(\"Invalid Phone number\")\n",
    "            return\n",
    "        if not emailValidator(email):\n",
    "            print(\"Invalid Email address\")\n",
    "            return\n",
    "        newcontact = []\n",
    "        newcontact.append(phone)\n",
    "        newcontact.append(email)\n",
    "        contacts[name] = newcontact\n",
    "        print(name, \"added successfully\")\n",
    "    return\n",
    "\n",
    "addContact(\"name3\", 9876543211, \"name321@gmail.com\")\n"
   ]
  },
  {
   "cell_type": "code",
   "execution_count": 9,
   "metadata": {},
   "outputs": [],
   "source": [
    "def searchContacts(name):\n",
    "    if name in contacts:\n",
    "        print(name)\n",
    "        print(\"Phone :\", contacts[name][0])\n",
    "        print(\"Email :\", contacts[name][1])\n",
    "    else:\n",
    "        print(\"%s does not exist\" % name)\n",
    "    return\n"
   ]
  },
  {
   "cell_type": "code",
   "execution_count": null,
   "metadata": {},
   "outputs": [],
   "source": [
    "###HackerEarth problem"
   ]
  },
  {
   "cell_type": "code",
   "execution_count": null,
   "metadata": {},
   "outputs": [],
   "source": [
    "d = int(input())\n",
    "toffee=0\n",
    "for i in range(0,d):\n",
    "    s = input()\n",
    "    s = s.split(\" \")\n",
    "    r=s[0]\n",
    "    x=s[1]\n",
    "    v=int(x)*100\n",
    "    print(str(v))\n",
    "    area=22//7*int(r)*int(r)\n",
    "    print(str(area))\n",
    "    if v>=area:\n",
    "        toffee+=1\n",
    "print(toffee) "
   ]
  },
  {
   "cell_type": "markdown",
   "metadata": {},
   "source": [
    "#### File Handling in Python\n",
    "\n",
    "file:-----Document containing information residing on the permanant\n",
    "Types:----Text,PDF,CSV,etc\n",
    "    \n",
    "    \n",
    "File I/O---->Chanelling I/O data to files\n",
    "Default I/O channels--keyboard/screen\n",
    "\n",
    "change I/O channel to files for reading and writing \n",
    "\n",
    "read a file-Input\n",
    "write to a file-output to a file"
   ]
  },
  {
   "cell_type": "code",
   "execution_count": null,
   "metadata": {},
   "outputs": [],
   "source": []
  },
  {
   "cell_type": "code",
   "execution_count": null,
   "metadata": {},
   "outputs": [],
   "source": []
  },
  {
   "cell_type": "code",
   "execution_count": 8,
   "metadata": {},
   "outputs": [
    {
     "ename": "SyntaxError",
     "evalue": "(unicode error) 'unicodeescape' codec can't decode bytes in position 2-3: truncated \\UXXXXXXXX escape (<ipython-input-8-3dfd88264469>, line 9)",
     "output_type": "error",
     "traceback": [
      "\u001b[1;36m  File \u001b[1;32m\"<ipython-input-8-3dfd88264469>\"\u001b[1;36m, line \u001b[1;32m9\u001b[0m\n\u001b[1;33m    filename=\"C:\\Users\\IIIT-rgukt\\Desktop\\Problem-Solving-and-Python-Programming\\Data Files\"\u001b[0m\n\u001b[1;37m            ^\u001b[0m\n\u001b[1;31mSyntaxError\u001b[0m\u001b[1;31m:\u001b[0m (unicode error) 'unicodeescape' codec can't decode bytes in position 2-3: truncated \\UXXXXXXXX escape\n"
     ]
    }
   ],
   "source": [
    "#function to read a file\n",
    "\n",
    "def readFile(filename):\n",
    "    f=open(filename, 'r')\n",
    "    filedata=f.read()\n",
    "    f.close()\n",
    "    return filedata\n",
    "\n",
    "filename=\"C:\\Users\\IIIT-rgukt\\Desktop\\Problem-Solving-and-Python-Programming\\Data Files\"\n",
    "filedata=readFile(filename)\n",
    "for line in filedata.split('\\n'):\n",
    "    print(line)"
   ]
  },
  {
   "cell_type": "code",
   "execution_count": 7,
   "metadata": {},
   "outputs": [
    {
     "data": {
      "text/plain": [
       "'C:\\\\Users\\\\IIIT-rgukt\\\\Desktop\\\\Problem-Solving-and-Python-Programming'"
      ]
     },
     "execution_count": 7,
     "metadata": {},
     "output_type": "execute_result"
    }
   ],
   "source": [
    "pwd"
   ]
  },
  {
   "cell_type": "code",
   "execution_count": 1,
   "metadata": {},
   "outputs": [],
   "source": [
    "def emailValidator(email):\n",
    "    pattern = '^[0-9a-z][0-9a-z_.]{4,13}[0-9a-z][@][0-9a-z]{3,18}[.][a-z]{2,4}$'\n",
    "    if re.match(pattern, email):\n",
    "        print(\"valid email\")\n",
    "    else:\n",
    "        print(\"invalid email\")\n",
    "    return\n"
   ]
  },
  {
   "cell_type": "code",
   "execution_count": null,
   "metadata": {},
   "outputs": [],
   "source": []
  },
  {
   "cell_type": "code",
   "execution_count": null,
   "metadata": {},
   "outputs": [],
   "source": []
  }
 ],
 "metadata": {
  "kernelspec": {
   "display_name": "Python 3",
   "language": "python",
   "name": "python3"
  },
  "language_info": {
   "codemirror_mode": {
    "name": "ipython",
    "version": 3
   },
   "file_extension": ".py",
   "mimetype": "text/x-python",
   "name": "python",
   "nbconvert_exporter": "python",
   "pygments_lexer": "ipython3",
   "version": "3.7.3"
  }
 },
 "nbformat": 4,
 "nbformat_minor": 2
}
