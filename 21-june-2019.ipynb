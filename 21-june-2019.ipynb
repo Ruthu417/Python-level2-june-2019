{
 "cells": [
  {
   "cell_type": "code",
   "execution_count": 4,
   "metadata": {},
   "outputs": [
    {
     "name": "stdout",
     "output_type": "stream",
     "text": [
      "2\n",
      "sumitmtius\n",
      "YES\n",
      "ruthuthuru\n",
      "YES\n"
     ]
    }
   ],
   "source": [
    "def twoStrings(n):\n",
    "    for i in range(1,n+1):\n",
    "        st=input()\n",
    "        st=st.split(\" \")\n",
    "        st1=st[0]\n",
    "        st2=st[0]\n",
    "        sorted(st1)\n",
    "        sorted(st2)\n",
    "        if(sorted(st1)==sorted(st2)):\n",
    "            print(\"YES\")\n",
    "        else:\n",
    "            print(\"NO\")\n",
    "n=int(input())\n",
    "twoStrings(n)"
   ]
  },
  {
   "cell_type": "code",
   "execution_count": 6,
   "metadata": {},
   "outputs": [
    {
     "name": "stdout",
     "output_type": "stream",
     "text": [
      "valid email\n"
     ]
    }
   ],
   "source": [
    "import re\n",
    "def emailValidator(email):\n",
    "    pattern = '^[0-9a-z][0-9a-z_.]{4,13}[0-9a-z][@][0-9a-z]{3,18}[.][a-z]{2,4}$'\n",
    "    if re.match(pattern, email):\n",
    "        print(\"valid email\")\n",
    "    else:\n",
    "        print(\"invalid email\")\n",
    "    return\n",
    "emailValidator(\"ruthu417@gmail.com\")"
   ]
  },
  {
   "cell_type": "code",
   "execution_count": 26,
   "metadata": {},
   "outputs": [
    {
     "name": "stdout",
     "output_type": "stream",
     "text": [
      "Valid number\n"
     ]
    }
   ],
   "source": [
    "\n",
    "import re\n",
    "def validatePhoneNumber(number):\n",
    "    pattern='^[6-9][0-9]{10}$|[0][6-9][0-9]{9}$|^[+][9][1][6-9][0-9]{9}$'\n",
    "    if re.match(pattern,str(number)):\n",
    "        print(\"Valid number\")\n",
    "    else:\n",
    "        print(\"Invalid number\")\n",
    "    return \n",
    "validatePhoneNumber(63007962313)"
   ]
  },
  {
   "cell_type": "code",
   "execution_count": 1,
   "metadata": {},
   "outputs": [
    {
     "name": "stdout",
     "output_type": "stream",
     "text": [
      "Contact is added\n",
      "Srikanya : 43210\n",
      "2 contacts added\n"
     ]
    }
   ],
   "source": [
    "from Packages import contacts\n",
    "def importContacts(newContacts):\n",
    "    contacts.update(newContacts)\n",
    "    print(len(newContacts.keys()), \"Contacts added successfully\")\n",
    "    return\n",
    "\n",
    "newContacts = {\"srrs\":[9876543210'srrs@gmail.com'] , \"abab\":[6543276532, 'abab@gmail.com']}\n"
   ]
  },
  {
   "cell_type": "code",
   "execution_count": 45,
   "metadata": {},
   "outputs": [
    {
     "name": "stdout",
     "output_type": "stream",
     "text": [
      "Valid number\n",
      "Invalid phone number\n"
     ]
    }
   ],
   "source": [
    "contacts={\"ruthu\":[8500602294,'ruthu417@gmail.com'],\"vanitha\":[9640321541,'veeravanitha.kamtham@gmail.com'],\"ashok\":[9490903998,'ashokar8596@gmail.com']}\n",
    "def addContact(name,phone,email):\n",
    "    if name in contacts:\n",
    "        print(name, \"is already existed\")\n",
    "    else:\n",
    "        if not validatePhoneNumber(phone):\n",
    "            print(\"Invalid phone number\")\n",
    "            return\n",
    "        if not emailValidator(email):\n",
    "            print(\"Invalid email\")\n",
    "            return \n",
    "        newContact=[]\n",
    "        newContact.append(phone)\n",
    "        newContact.append(email)\n",
    "        contacts[name]=newContact\n",
    "        print(\"Added Successfully\")\n",
    "    return\n",
    "addContact(\"Pushpa\",95105820607,'n130657@rgukt.ac.in')"
   ]
  },
  {
   "cell_type": "code",
   "execution_count": null,
   "metadata": {},
   "outputs": [],
   "source": []
  },
  {
   "cell_type": "code",
   "execution_count": null,
   "metadata": {},
   "outputs": [],
   "source": [
    "import re\n",
    "def phoneNumberValidator(phone,email):\n",
    "    phone_pattern='^[6-9][0-9]{9}$'\n",
    "    email_pattern='^[a-z0-9][a-z0-9_.]{4,13}[a-z0-9][@][a-z0-9.]{3,18}[a-z]{2,4$}'\n",
    "    if re.match(phone_pattern,phone):\n",
    "        if re.match(email_pattern,email):\n",
    "            print(\"Valid Number\")\n",
    "        else:\n",
    "            print(\"Invalid Number\")\n",
    "    return\n",
    "\n",
    "phone=int(input())\n",
    "email=input()\n",
    "phoneNumberValidator(phone,email)"
   ]
  },
  {
   "cell_type": "markdown",
   "metadata": {},
   "source": [
    "### Files Handling"
   ]
  },
  {
   "cell_type": "markdown",
   "metadata": {},
   "source": [
    "File Handling in Python\n",
    "File - Document containing information residing on the permanent storage Types - Text, PDF, CSV etc\n",
    "\n",
    "File I/O - Channelling I/O data to files Default I/O channels - Keyboard / Screen\n",
    "\n",
    "Change I/O channel to files for Reading and writing into files\n",
    "\n",
    "Read a file - Input from file Write to a file - Output to a file\n",
    "\n",
    "Read / write file - open(filename, mode)"
   ]
  },
  {
   "cell_type": "code",
   "execution_count": null,
   "metadata": {},
   "outputs": [],
   "source": [
    "def readFile(filename):\n",
    "    f = open(filename, 'r')\n",
    "    filedata = f.read()\n",
    "    f.close()\n",
    "    return filedata\n",
    "filename = 'Data Files\\data.txt'\n",
    "filedata = readFile(filename)\n",
    "\n",
    "\n",
    "def printFileDataLines(filename):\n",
    "    with open(filename, 'r') as f:\n",
    "        for line in f:\n",
    "            print(line, end='')\n",
    "    return\n",
    "\n",
    "printFileDataLines(filename)\n",
    "print(readFile(filename))"
   ]
  },
  {
   "cell_type": "code",
   "execution_count": 2,
   "metadata": {},
   "outputs": [
    {
     "data": {
      "text/plain": [
       "'C:\\\\Users\\\\IIIT-rgukt\\\\Desktop\\\\Problem-Solving-and-Python-Programming'"
      ]
     },
     "execution_count": 2,
     "metadata": {},
     "output_type": "execute_result"
    }
   ],
   "source": [
    "pwd"
   ]
  },
  {
   "cell_type": "code",
   "execution_count": 3,
   "metadata": {},
   "outputs": [
    {
     "name": "stdout",
     "output_type": "stream",
     "text": [
      "C:\\Users\\IIIT-rgukt\\Desktop\\Problem-Solving-and-Python-Programming\\Data Files\n"
     ]
    }
   ],
   "source": [
    "cd Data Files"
   ]
  },
  {
   "cell_type": "code",
   "execution_count": 3,
   "metadata": {},
   "outputs": [
    {
     "name": "stdout",
     "output_type": "stream",
     "text": [
      "C:\\Users\\IIIT-rgukt\\Desktop\\Problem-Solving-and-Python-Programming\n"
     ]
    }
   ],
   "source": [
    "cd --"
   ]
  },
  {
   "cell_type": "code",
   "execution_count": null,
   "metadata": {},
   "outputs": [],
   "source": []
  },
  {
   "cell_type": "raw",
   "metadata": {},
   "source": []
  },
  {
   "cell_type": "code",
   "execution_count": 1,
   "metadata": {},
   "outputs": [
    {
     "ename": "FileNotFoundError",
     "evalue": "[Errno 2] No such file or directory: 'DataFiles/data.txt'",
     "output_type": "error",
     "traceback": [
      "\u001b[1;31m---------------------------------------------------------------------------\u001b[0m",
      "\u001b[1;31mFileNotFoundError\u001b[0m                         Traceback (most recent call last)",
      "\u001b[1;32m<ipython-input-1-58bfe8d628b8>\u001b[0m in \u001b[0;36m<module>\u001b[1;34m\u001b[0m\n\u001b[0;32m      8\u001b[0m \u001b[0mfilename\u001b[0m \u001b[1;33m=\u001b[0m \u001b[1;34m'DataFiles/data.txt'\u001b[0m\u001b[1;33m\u001b[0m\u001b[1;33m\u001b[0m\u001b[0m\n\u001b[0;32m      9\u001b[0m \u001b[1;33m\u001b[0m\u001b[0m\n\u001b[1;32m---> 10\u001b[1;33m \u001b[0mwriteIntoFile\u001b[0m\u001b[1;33m(\u001b[0m\u001b[0mfilename\u001b[0m\u001b[1;33m,\u001b[0m \u001b[1;34m\"new data\\n\"\u001b[0m\u001b[1;33m)\u001b[0m\u001b[1;33m\u001b[0m\u001b[1;33m\u001b[0m\u001b[0m\n\u001b[0m",
      "\u001b[1;32m<ipython-input-1-58bfe8d628b8>\u001b[0m in \u001b[0;36mwriteIntoFile\u001b[1;34m(filename, filedata)\u001b[0m\n\u001b[0;32m      2\u001b[0m \u001b[1;33m\u001b[0m\u001b[0m\n\u001b[0;32m      3\u001b[0m \u001b[1;32mdef\u001b[0m \u001b[0mwriteIntoFile\u001b[0m\u001b[1;33m(\u001b[0m\u001b[0mfilename\u001b[0m\u001b[1;33m,\u001b[0m \u001b[0mfiledata\u001b[0m\u001b[1;33m)\u001b[0m\u001b[1;33m:\u001b[0m\u001b[1;33m\u001b[0m\u001b[1;33m\u001b[0m\u001b[0m\n\u001b[1;32m----> 4\u001b[1;33m     \u001b[1;32mwith\u001b[0m \u001b[0mopen\u001b[0m\u001b[1;33m(\u001b[0m\u001b[0mfilename\u001b[0m\u001b[1;33m,\u001b[0m \u001b[1;34m'w'\u001b[0m\u001b[1;33m)\u001b[0m \u001b[1;32mas\u001b[0m \u001b[0mf\u001b[0m\u001b[1;33m:\u001b[0m\u001b[1;33m\u001b[0m\u001b[1;33m\u001b[0m\u001b[0m\n\u001b[0m\u001b[0;32m      5\u001b[0m         \u001b[0mf\u001b[0m\u001b[1;33m.\u001b[0m\u001b[0mwrite\u001b[0m\u001b[1;33m(\u001b[0m\u001b[0mfiledata\u001b[0m\u001b[1;33m)\u001b[0m\u001b[1;33m\u001b[0m\u001b[1;33m\u001b[0m\u001b[0m\n\u001b[0;32m      6\u001b[0m     \u001b[1;32mreturn\u001b[0m\u001b[1;33m\u001b[0m\u001b[1;33m\u001b[0m\u001b[0m\n",
      "\u001b[1;31mFileNotFoundError\u001b[0m: [Errno 2] No such file or directory: 'DataFiles/data.txt'"
     ]
    }
   ],
   "source": [
    "# Function to write data into a file\n",
    "\n",
    "def writeIntoFile(filename, filedata):\n",
    "    with open(filename, 'w') as f:\n",
    "        f.write(filedata)\n",
    "    return\n",
    "\n",
    "filename = 'DataFiles/data.txt'\n",
    "\n",
    "writeIntoFile(filename, \"new data\\n\")"
   ]
  },
  {
   "cell_type": "code",
   "execution_count": null,
   "metadata": {},
   "outputs": [],
   "source": [
    "# Function to append data to a file\n",
    "\n",
    "def appendDataToFile(filename, filedata):\n",
    "    with open(filename, 'a') as f:\n",
    "        for line in filedata:\n",
    "            f.write('\\n'+line)\n",
    "    return\n",
    "\n",
    "filedata = [\"Line4\", \"Line5\"]\n",
    "appendDataToFile(filename, filedata)"
   ]
  }
 ],
 "metadata": {
  "kernelspec": {
   "display_name": "Python 3",
   "language": "python",
   "name": "python3"
  },
  "language_info": {
   "codemirror_mode": {
    "name": "ipython",
    "version": 3
   },
   "file_extension": ".py",
   "mimetype": "text/x-python",
   "name": "python",
   "nbconvert_exporter": "python",
   "pygments_lexer": "ipython3",
   "version": "3.7.3"
  }
 },
 "nbformat": 4,
 "nbformat_minor": 2
}
