{
 "cells": [
  {
   "cell_type": "code",
   "execution_count": null,
   "metadata": {},
   "outputs": [],
   "source": [
    "#Print all the words which word contains duplicate characters\n",
    "#ramu akash balu\n",
    "#akash\n",
    "\n",
    "names=input().split()\n",
    "count=0\n",
    "for word in names:\n",
    "    for ch in word:\n",
    "        if word.count(ch)>1:\n",
    "            print(word)\n",
    "            break"
   ]
  },
  {
   "cell_type": "code",
   "execution_count": null,
   "metadata": {},
   "outputs": [],
   "source": [
    "\n"
   ]
  },
  {
   "cell_type": "code",
   "execution_count": 2,
   "metadata": {},
   "outputs": [
    {
     "name": "stdout",
     "output_type": "stream",
     "text": [
      "aabbccc\n",
      "dict_items([(2, 'b'), (3, 'c')])\n"
     ]
    }
   ],
   "source": [
    "st=input()\n",
    "dic={}\n",
    "for ch in st:\n",
    "    c=st.count(ch)\n",
    "    dic[c]=ch\n",
    "print(dic.items())"
   ]
  },
  {
   "cell_type": "code",
   "execution_count": 25,
   "metadata": {},
   "outputs": [
    {
     "name": "stdout",
     "output_type": "stream",
     "text": [
      "aabbbccc\n",
      "(2, 'a') (2, 'a') (3, 'b') (3, 'b') (3, 'b') (3, 'c') (3, 'c') (3, 'c') "
     ]
    }
   ],
   "source": [
    "t=input()\n",
    "for ch in t:\n",
    "    count=t.count(ch)\n",
    "    print((count,ch),end=\" \")"
   ]
  },
  {
   "cell_type": "code",
   "execution_count": 21,
   "metadata": {},
   "outputs": [
    {
     "name": "stdout",
     "output_type": "stream",
     "text": [
      "aabbbccc\n",
      "(2, 'a') (3, 'b') (3, 'c') "
     ]
    }
   ],
   "source": [
    "st=input()\n",
    "ch_count=[]\n",
    "for ch in st:\n",
    "    if ch not in ch_count:\n",
    "        ch_count.append(ch)\n",
    "for i in ch_count:\n",
    "    print((st.count(i),i),end=\" \")\n"
   ]
  },
  {
   "cell_type": "code",
   "execution_count": 3,
   "metadata": {},
   "outputs": [
    {
     "name": "stdout",
     "output_type": "stream",
     "text": [
      "Mahesh\n",
      "1 4\n",
      "['Mahe']\n"
     ]
    }
   ],
   "source": [
    "#Mahesh  ---> Input\n",
    "# Range-> 1 3\n",
    "#Output -> haMesh\n",
    "st=input()\n",
    "ind=list(map(int,input().split()))\n",
    "st=[st[ind[0]-1:ind[1]]] #0-2\n",
    "rev=st[::-1]\n",
    "print(rev)"
   ]
  },
  {
   "cell_type": "code",
   "execution_count": null,
   "metadata": {},
   "outputs": [],
   "source": []
  },
  {
   "cell_type": "code",
   "execution_count": 4,
   "metadata": {},
   "outputs": [
    {
     "name": "stdout",
     "output_type": "stream",
     "text": [
      "Mahesh\n",
      "2 4\n",
      "Mehash\n"
     ]
    }
   ],
   "source": [
    "st=input()\n",
    "s,e=map(int,input().split())\n",
    "if s==1:\n",
    "    print(st[e-1::-1]+st[e:])\n",
    "else:\n",
    "    print(st[:s-1]+st[e-1:s-2:-1]+st[e:])\n",
    "    "
   ]
  },
  {
   "cell_type": "code",
   "execution_count": null,
   "metadata": {},
   "outputs": [],
   "source": []
  },
  {
   "cell_type": "code",
   "execution_count": null,
   "metadata": {},
   "outputs": [],
   "source": []
  },
  {
   "cell_type": "code",
   "execution_count": null,
   "metadata": {},
   "outputs": [],
   "source": []
  }
 ],
 "metadata": {
  "kernelspec": {
   "display_name": "Python 3",
   "language": "python",
   "name": "python3"
  },
  "language_info": {
   "codemirror_mode": {
    "name": "ipython",
    "version": 3
   },
   "file_extension": ".py",
   "mimetype": "text/x-python",
   "name": "python",
   "nbconvert_exporter": "python",
   "pygments_lexer": "ipython3",
   "version": "3.7.3"
  }
 },
 "nbformat": 4,
 "nbformat_minor": 2
}
