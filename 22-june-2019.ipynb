{
 "cells": [
  {
   "cell_type": "markdown",
   "metadata": {},
   "source": [
    "#### Date:22 June 2019\n",
    "### Day Objectives\n",
    "- File Handling\n",
    "    - Basic File Data Processing\n",
    "        - Accessing and Modifying File Data\n",
    "    - Charcter Count\n",
    "    - Line Count\n",
    "    - File Size\n",
    "    - Word Count\n",
    "    - Unique Word Count\n",
    "    "
   ]
  },
  {
   "cell_type": "code",
   "execution_count": 3,
   "metadata": {},
   "outputs": [
    {
     "ename": "NameError",
     "evalue": "name 'pwd' is not defined",
     "output_type": "error",
     "traceback": [
      "\u001b[1;31m---------------------------------------------------------------------------\u001b[0m",
      "\u001b[1;31mNameError\u001b[0m                                 Traceback (most recent call last)",
      "\u001b[1;32m<ipython-input-3-8e7de586b5ef>\u001b[0m in \u001b[0;36m<module>\u001b[1;34m\u001b[0m\n\u001b[0;32m      2\u001b[0m \u001b[1;31m# Write to a file - Existing(append mode) or New File(write mode)\u001b[0m\u001b[1;33m\u001b[0m\u001b[1;33m\u001b[0m\u001b[1;33m\u001b[0m\u001b[0m\n\u001b[0;32m      3\u001b[0m \u001b[1;33m\u001b[0m\u001b[0m\n\u001b[1;32m----> 4\u001b[1;33m \u001b[0mpwd\u001b[0m\u001b[1;33m\u001b[0m\u001b[1;33m\u001b[0m\u001b[0m\n\u001b[0m",
      "\u001b[1;31mNameError\u001b[0m: name 'pwd' is not defined"
     ]
    }
   ],
   "source": [
    "#Read a file -  First it should exist(Read Mode)\n",
    "# Write to a file - Existing(append mode) or New File(write mode)\n",
    "\n",
    "pwd"
   ]
  },
  {
   "cell_type": "code",
   "execution_count": 2,
   "metadata": {},
   "outputs": [
    {
     "data": {
      "text/plain": [
       "'C:\\\\Users\\\\IIIT-rgukt\\\\Desktop\\\\Problem-Solving-and-Python-Programming'"
      ]
     },
     "execution_count": 2,
     "metadata": {},
     "output_type": "execute_result"
    }
   ],
   "source": [
    "pwd"
   ]
  },
  {
   "cell_type": "code",
   "execution_count": 13,
   "metadata": {},
   "outputs": [
    {
     "name": "stdout",
     "output_type": "stream",
     "text": [
      "Hi I am Ruthu . \n",
      "How are you all ?\n",
      "What about you ?\n",
      "\n"
     ]
    }
   ],
   "source": [
    "#Reading a file\n",
    "def readFile(filepath):\n",
    "    with open(filepath,'r') as f:\n",
    "        filedata=f.read()\n",
    "    return filedata\n",
    "filepath='Data Files/data.txt'\n",
    "readFile(filepath) # displays the content with \\n line\n",
    "print(readFile(filepath)) # displays the exact content"
   ]
  },
  {
   "cell_type": "code",
   "execution_count": 3,
   "metadata": {},
   "outputs": [],
   "source": [
    "# Writing conents to the file\n",
    "\n",
    "def writeIntoFile(filename,filedata):\n",
    "    with open(filename,'w') as f:\n",
    "        f.write(filedata)\n",
    "    return\n",
    "filename='Data Files\\data.txt'\n",
    "writeIntoFile(filename,\"Hello Everyone\\nThis is Ruthu\\nHow are you all?\\n\")"
   ]
  },
  {
   "cell_type": "code",
   "execution_count": 4,
   "metadata": {},
   "outputs": [],
   "source": [
    "#Adding contents to the existed file..\n",
    "def appendDataIntoFile(filename,filedata):\n",
    "    with open(filename,'a') as f:\n",
    "        for line in filedata:\n",
    "            f.write('\\n'+line)\n",
    "    return\n",
    "filedata=['Hello Guys !','Good Morining']\n",
    "filename='Data Files\\data.txt'\n",
    "appendDataIntoFile(filename,filedata)"
   ]
  },
  {
   "cell_type": "code",
   "execution_count": 85,
   "metadata": {},
   "outputs": [
    {
     "name": "stdout",
     "output_type": "stream",
     "text": [
      "H e l l o E v e r y o n e \n",
      " T h i s i s R u t h u \n",
      " H o w a r e y o u a l l ? \n",
      " H e l l o G u y s ! G o o d M o r i n i n g "
     ]
    },
    {
     "data": {
      "text/plain": [
       "62"
      ]
     },
     "execution_count": 85,
     "metadata": {},
     "output_type": "execute_result"
    }
   ],
   "source": [
    "#Function to count characters in a file\n",
    "def charCount(filename):\n",
    "    count=0\n",
    "    with open(filename,'r') as f:\n",
    "        filedata=f.read()\n",
    "        for ch in filedata:\n",
    "            if ch!=\" \":\n",
    "                print(ch,end=\" \")\n",
    "                count+=1\n",
    "    return count\n",
    "charCount('Data Files\\data.txt')"
   ]
  },
  {
   "cell_type": "code",
   "execution_count": 16,
   "metadata": {},
   "outputs": [
    {
     "name": "stdout",
     "output_type": "stream",
     "text": [
      "13\n"
     ]
    }
   ],
   "source": [
    "#Function to count lines in a file\n",
    "\n",
    "def wordCount(filename):\n",
    "    count=0\n",
    "    with open(filename,'r') as f:\n",
    "        filedata=f.read()\n",
    "        s=filedata.split(\" \")\n",
    "    print(len(s))\n",
    "wordCount('Data Files\\data.txt')"
   ]
  },
  {
   "cell_type": "code",
   "execution_count": 10,
   "metadata": {},
   "outputs": [
    {
     "data": {
      "text/plain": [
       "4"
      ]
     },
     "execution_count": 10,
     "metadata": {},
     "output_type": "execute_result"
    }
   ],
   "source": [
    "#Function to count lines in a file\n",
    "def lineCount(filename):\n",
    "    count=0\n",
    "    with open(filename,'r') as f:\n",
    "        for e in f:\n",
    "            f=e.split()\n",
    "            count+=1\n",
    "    return count\n",
    "lineCount('Data Files\\data.txt')"
   ]
  },
  {
   "cell_type": "code",
   "execution_count": 24,
   "metadata": {},
   "outputs": [
    {
     "name": "stdout",
     "output_type": "stream",
     "text": [
      "{'Hello': 2, 'Everyone': 1, 'This': 1, 'is': 1, 'Ruthu': 1, 'How': 1, 'are': 1, 'you': 1, 'all': 1, 'Guys': 1, 'Good': 1, 'Morining': 1} "
     ]
    }
   ],
   "source": [
    "#Function to count unique word\n",
    "\n",
    "def uniqueWordCount(filename):\n",
    "    count={}\n",
    "    with open(filename,'r') as file:\n",
    "        filedata=file.read()\n",
    "        li=filedata.split()\n",
    "        for i in li:\n",
    "            if i in count:\n",
    "                count[i]+=1\n",
    "            else:\n",
    "                count[i]=1\n",
    "    print(count,end=\" \")\n",
    "uniqueWordCount('Data Files\\data.txt')"
   ]
  },
  {
   "cell_type": "code",
   "execution_count": null,
   "metadata": {},
   "outputs": [],
   "source": []
  },
  {
   "cell_type": "code",
   "execution_count": 35,
   "metadata": {},
   "outputs": [
    {
     "data": {
      "text/plain": [
       "str"
      ]
     },
     "execution_count": 35,
     "metadata": {},
     "output_type": "execute_result"
    }
   ],
   "source": [
    "#Function to print size of the file..\n",
    "\n",
    "def fileSize(filename):\n",
    "    size=0\n",
    "    with open(filename,'r') as f:\n",
    "        filedata=f.read()\n",
    "    \n",
    "    return(type(filedata))\n",
    "    \n",
    "fileSize('Data Files\\data.txt')"
   ]
  },
  {
   "cell_type": "markdown",
   "metadata": {},
   "source": [
    "### Contact Application\n"
   ]
  },
  {
   "cell_type": "code",
   "execution_count": null,
   "metadata": {},
   "outputs": [],
   "source": []
  },
  {
   "cell_type": "code",
   "execution_count": 4,
   "metadata": {},
   "outputs": [],
   "source": [
    "#Function to creat contact application\n",
    "contacts={}\n",
    "def addContact():\n",
    "    n=int(input(\"Enter the no.of records that you want to insert into contacts \"))\n",
    "    for record in range(n):\n",
    "        name=input(\"Enter name\")\n",
    "        mobile=input(\"Enter mobile\")\n",
    "        email=input(\"Enter email_id\")\n",
    "        contacts[name]=[mobile,email]\n",
    "    with open('Data Files\\contacts.txt','w') as data:\n",
    "        for user in contacts.items():\n",
    "            data.write(user[0]+\",\"+user[1][0]+\",\"+user[1][1]+\"\\n\")\n",
    "    print(\"Data added successfully\")\n",
    "    return"
   ]
  },
  {
   "cell_type": "code",
   "execution_count": null,
   "metadata": {},
   "outputs": [],
   "source": []
  },
  {
   "cell_type": "code",
   "execution_count": null,
   "metadata": {},
   "outputs": [],
   "source": [
    "#Function to modify contacts\n",
    "\n",
    "def modifyContact(filename):\n",
    "    updated_data={}\n",
    "    name=input(\"Enter name \")\n",
    "    with open(filename,'r') as f:\n",
    "        for line in f:\n",
    "            print(line)\n",
    "            line=line.strip().split(',')\n",
    "            if name in line:\n",
    "                mobile=input(\"Enter new mobile no.\")\n",
    "                email=input(\"Enter new email\")\n",
    "                line[1]=mobile\n",
    "                line[2]=email\n",
    "                updated_data[line[0]]=[line[1],line[2]]\n",
    "            else:\n",
    "                updated_data[line[0]]=[line[1],line[2]]\n",
    "                continue\n",
    "    with open(filename,'w') as info:\n",
    "        for user in updated_data.items():\n",
    "            info.write(user[0]+','+user[1][0]+\",\"+user[1][1]+\"\\n\")\n",
    "        \n",
    "filename=input(\"Enter file name\")\n",
    "modifyContact(filename)"
   ]
  },
  {
   "cell_type": "code",
   "execution_count": 3,
   "metadata": {},
   "outputs": [
    {
     "data": {
      "text/plain": [
       "'C:\\\\Users\\\\IIIT-rgukt\\\\Desktop\\\\Problem-Solving-and-Python-Programming'"
      ]
     },
     "execution_count": 3,
     "metadata": {},
     "output_type": "execute_result"
    }
   ],
   "source": [
    "pwd"
   ]
  },
  {
   "cell_type": "code",
   "execution_count": null,
   "metadata": {},
   "outputs": [],
   "source": []
  },
  {
   "cell_type": "code",
   "execution_count": null,
   "metadata": {},
   "outputs": [],
   "source": []
  },
  {
   "cell_type": "code",
   "execution_count": null,
   "metadata": {},
   "outputs": [],
   "source": []
  },
  {
   "cell_type": "code",
   "execution_count": 4,
   "metadata": {},
   "outputs": [
    {
     "name": "stdout",
     "output_type": "stream",
     "text": [
      "C:\\Users\\IIIT-rgukt\\Desktop\\Problem-Solving-and-Python-Programming\\Data Files\n"
     ]
    }
   ],
   "source": [
    "cd Data Files"
   ]
  },
  {
   "cell_type": "code",
   "execution_count": 5,
   "metadata": {},
   "outputs": [
    {
     "data": {
      "text/plain": [
       "'C:\\\\Users\\\\IIIT-rgukt\\\\Desktop\\\\Problem-Solving-and-Python-Programming\\\\Data Files'"
      ]
     },
     "execution_count": 5,
     "metadata": {},
     "output_type": "execute_result"
    }
   ],
   "source": [
    "pwd"
   ]
  },
  {
   "cell_type": "code",
   "execution_count": 38,
   "metadata": {},
   "outputs": [
    {
     "ename": "SyntaxError",
     "evalue": "invalid syntax (<ipython-input-38-6b7ea475ef37>, line 8)",
     "output_type": "error",
     "traceback": [
      "\u001b[1;36m  File \u001b[1;32m\"<ipython-input-38-6b7ea475ef37>\"\u001b[1;36m, line \u001b[1;32m8\u001b[0m\n\u001b[1;33m    if st[0]+st[1]==odd(i) || st[4]+st[5]==odd(i)|| st[5]+st[6]==odd(i)|| st[8]+st[9]==odd(i):\u001b[0m\n\u001b[1;37m                            ^\u001b[0m\n\u001b[1;31mSyntaxError\u001b[0m\u001b[1;31m:\u001b[0m invalid syntax\n"
     ]
    }
   ],
   "source": [
    "def odd(n):\n",
    "    if (n%2==1):\n",
    "        return True\n",
    "\n",
    "\n",
    "st='^[0-9][0-9][A-Z][0-9][0-9][0-9][-][0-9][0-9]$'\n"
   ]
  },
  {
   "cell_type": "code",
   "execution_count": null,
   "metadata": {},
   "outputs": [],
   "source": []
  }
 ],
 "metadata": {
  "kernelspec": {
   "display_name": "Python 3",
   "language": "python",
   "name": "python3"
  },
  "language_info": {
   "codemirror_mode": {
    "name": "ipython",
    "version": 3
   },
   "file_extension": ".py",
   "mimetype": "text/x-python",
   "name": "python",
   "nbconvert_exporter": "python",
   "pygments_lexer": "ipython3",
   "version": "3.7.3"
  }
 },
 "nbformat": 4,
 "nbformat_minor": 2
}
