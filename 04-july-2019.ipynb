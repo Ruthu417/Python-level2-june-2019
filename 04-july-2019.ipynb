{
 "cells": [
  {
   "cell_type": "code",
   "execution_count": 2,
   "metadata": {},
   "outputs": [
    {
     "name": "stdout",
     "output_type": "stream",
     "text": [
      "2\n",
      "5\n",
      "1 5\n",
      "2 3 5 7 3\n",
      "6 25\n"
     ]
    }
   ],
   "source": [
    "# 5.print count and sum of digits in a given string \n",
    "\n",
    "#### test cases: 2\n",
    "#### 5 ---> 1 5\n",
    "#### 3 5 7 2 3  ---> 5 20\n",
    "\n",
    "def count_sum_of_digits(t):\n",
    "    s=0\n",
    "    c=0\n",
    "    for i in range(t):\n",
    "        l=list(map(int,input().split()))\n",
    "        for num in l:\n",
    "            s+=num\n",
    "            c+=1\n",
    "        print(c,s,sep=\" \")\n",
    "\n",
    "t=int(input())\n",
    "count_sum_of_digits(t)"
   ]
  },
  {
   "cell_type": "code",
   "execution_count": 1,
   "metadata": {},
   "outputs": [
    {
     "name": "stdout",
     "output_type": "stream",
     "text": [
      "2\n",
      "ruthu\n",
      "120\n",
      "ruth\n",
      "htur\n"
     ]
    }
   ],
   "source": [
    "# 6.Print factorial of a value if the length of a string is  prime otherwise print string in reverse\n",
    "\n",
    "def isPrime(n):\n",
    "    count=0\n",
    "    for i in range(1,n+1):\n",
    "        if (n%i==0):\n",
    "            count+=1\n",
    "    if(count==2):\n",
    "        return True\n",
    "    \n",
    "def factorial(n):\n",
    "    fact=1\n",
    "    for i in range(1,n+1):\n",
    "        if n==1:\n",
    "            return 0\n",
    "        elif n==2:\n",
    "            return 2\n",
    "        else:\n",
    "            fact*=i\n",
    "    return fact\n",
    "    \n",
    "t=int(input())\n",
    "for num in range(t):\n",
    "    st=input()\n",
    "    l=len(st)\n",
    "    if l==1:\n",
    "        print(1)\n",
    "    elif isPrime(l):\n",
    "        res=factorial(l)\n",
    "        if res!=None:\n",
    "            print(res)\n",
    "    else:\n",
    "        print(st[::-1])"
   ]
  },
  {
   "cell_type": "code",
   "execution_count": 6,
   "metadata": {},
   "outputs": [
    {
     "name": "stdout",
     "output_type": "stream",
     "text": [
      "100 500 100 40\n",
      "233.33333333333334\n"
     ]
    }
   ],
   "source": [
    "#9. Find the average of unique three digit numbers\n",
    "#1 2 10 100 500 50 100 6 7 \n",
    "#300\n",
    "li=[i for i in range(100,999)]\n",
    "def avg_of_three_digits(st):\n",
    "    s=0\n",
    "    count=0\n",
    "    for ch in st:\n",
    "        n=int(ch)\n",
    "        if n in li:\n",
    "            s+=n\n",
    "            count+=1\n",
    "            avg=s/count\n",
    "    print(avg)\n",
    "    return \n",
    "\n",
    "st=input().split()\n",
    "avg_of_three_digits(st)\n"
   ]
  },
  {
   "cell_type": "code",
   "execution_count": 11,
   "metadata": {},
   "outputs": [
    {
     "name": "stdout",
     "output_type": "stream",
     "text": [
      "2 100 500 100\n",
      "233.33333333333334\n"
     ]
    }
   ],
   "source": [
    "st=input().split()\n",
    "s=0\n",
    "count=0\n",
    "for ch in st:\n",
    "    n=int(ch)\n",
    "    if (n>=100 and n<=999):\n",
    "        s+=n\n",
    "        count+=1\n",
    "        avg=s/count\n",
    "print(avg)"
   ]
  },
  {
   "cell_type": "code",
   "execution_count": 12,
   "metadata": {},
   "outputs": [
    {
     "name": "stdout",
     "output_type": "stream",
     "text": [
      "5 3\n",
      "1 2 3 4 5\n",
      "1 4\n",
      "2\n",
      "2 3\n",
      "2\n",
      "2 5\n",
      "3\n"
     ]
    }
   ],
   "source": [
    "import math\n",
    "num,q=list(map(int,input().split()))\n",
    "v=input().split()\n",
    "mean=0\n",
    "for query in range(1,q+1):\n",
    "    v1,v2=list(map(int,input().split()))\n",
    "    mean=(v1+v2)/2\n",
    "    print(math.floor(mean))"
   ]
  },
  {
   "cell_type": "code",
   "execution_count": 2,
   "metadata": {},
   "outputs": [
    {
     "name": "stdout",
     "output_type": "stream",
     "text": [
      "1\n",
      "6\n",
      "AFREEN\n",
      "\n"
     ]
    }
   ],
   "source": [
    "#1\n",
    "#6\n",
    "#AFREEN\n",
    "\n",
    "\n",
    "def isPrime(n):\n",
    "    count=0\n",
    "    for i in range(1,n+1):\n",
    "        if (n%i==0):\n",
    "            count+=1\n",
    "    if(count==2):\n",
    "        return True\n",
    "        \n",
    "rep_st=\"\"\n",
    "        \n",
    "t=int(input())\n",
    "n=int(input())\n",
    "st=input()\n",
    "for ch in st:\n",
    "    if isPrime(ord(ch)):\n",
    "        rep_st+=ch\n",
    "print(rep_st)\n",
    "        \n",
    "        "
   ]
  },
  {
   "cell_type": "code",
   "execution_count": null,
   "metadata": {},
   "outputs": [
    {
     "name": "stdout",
     "output_type": "stream",
     "text": [
      "2\n",
      "3 4\n",
      "1 2 5\n"
     ]
    }
   ],
   "source": [
    "\"\"\"\"First line consists of a single integer, T, denoting the number of test cases. \n",
    "First line of each test case consists of two space separated integers denoting N and K. \n",
    "Second line of each test case consists of N space separated integers denoting the array A.\n",
    "\n",
    "Output:\n",
    "For each test case, print the minimum time in which all array elements will become greater than or equal to K. Print a new\n",
    "line after each test case. \"\"\"\n",
    "\n",
    "\n",
    "t=int(input())\n",
    "for i in range(t):\n",
    "    t=0\n",
    "    n,k=list(map(int,input().split()))\n",
    "    ar=input().split(\" \")\n",
    "    for value in ar:\n",
    "        inc=int(value)+1\n",
    "        \n",
    "        while(inc>=k):\n",
    "            t+=1\n",
    "print(t)\n",
    "    "
   ]
  },
  {
   "cell_type": "code",
   "execution_count": null,
   "metadata": {},
   "outputs": [],
   "source": [
    "li=[]\n",
    "dic={}\n",
    "n=int(input())\n",
    "for i in range(n):\n",
    "    v=int(input())\n",
    "    l.append(v)\n",
    "print(l)\n",
    "for value in li:\n",
    "    dic[key]=value\n",
    "    print(dic)"
   ]
  },
  {
   "cell_type": "code",
   "execution_count": 8,
   "metadata": {},
   "outputs": [
    {
     "name": "stdout",
     "output_type": "stream",
     "text": [
      "rtty \"hgfd\"\n",
      "rtty \"hgfd\"\n"
     ]
    }
   ],
   "source": [
    "st=input().split('\"\"')\n",
    "for word in st:\n",
    "    print(word)"
   ]
  },
  {
   "cell_type": "code",
   "execution_count": 5,
   "metadata": {},
   "outputs": [
    {
     "data": {
      "text/plain": [
       "['__add__',\n",
       " '__class__',\n",
       " '__contains__',\n",
       " '__delattr__',\n",
       " '__delitem__',\n",
       " '__dir__',\n",
       " '__doc__',\n",
       " '__eq__',\n",
       " '__format__',\n",
       " '__ge__',\n",
       " '__getattribute__',\n",
       " '__getitem__',\n",
       " '__gt__',\n",
       " '__hash__',\n",
       " '__iadd__',\n",
       " '__imul__',\n",
       " '__init__',\n",
       " '__init_subclass__',\n",
       " '__iter__',\n",
       " '__le__',\n",
       " '__len__',\n",
       " '__lt__',\n",
       " '__mul__',\n",
       " '__ne__',\n",
       " '__new__',\n",
       " '__reduce__',\n",
       " '__reduce_ex__',\n",
       " '__repr__',\n",
       " '__reversed__',\n",
       " '__rmul__',\n",
       " '__setattr__',\n",
       " '__setitem__',\n",
       " '__sizeof__',\n",
       " '__str__',\n",
       " '__subclasshook__',\n",
       " 'append',\n",
       " 'clear',\n",
       " 'copy',\n",
       " 'count',\n",
       " 'extend',\n",
       " 'index',\n",
       " 'insert',\n",
       " 'pop',\n",
       " 'remove',\n",
       " 'reverse',\n",
       " 'sort']"
      ]
     },
     "execution_count": 5,
     "metadata": {},
     "output_type": "execute_result"
    }
   ],
   "source": [
    "dir(st)"
   ]
  },
  {
   "cell_type": "code",
   "execution_count": null,
   "metadata": {},
   "outputs": [],
   "source": []
  }
 ],
 "metadata": {
  "kernelspec": {
   "display_name": "Python 3",
   "language": "python",
   "name": "python3"
  },
  "language_info": {
   "codemirror_mode": {
    "name": "ipython",
    "version": 3
   },
   "file_extension": ".py",
   "mimetype": "text/x-python",
   "name": "python",
   "nbconvert_exporter": "python",
   "pygments_lexer": "ipython3",
   "version": "3.7.3"
  }
 },
 "nbformat": 4,
 "nbformat_minor": 2
}
