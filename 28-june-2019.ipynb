{
 "cells": [
  {
   "cell_type": "code",
   "execution_count": 21,
   "metadata": {},
   "outputs": [
    {
     "name": "stdout",
     "output_type": "stream",
     "text": [
      "A P S S D C\n",
      "Apssdc\n"
     ]
    }
   ],
   "source": [
    "# Print the given character as a word..\n",
    "# A P S S D C ->Apssdc\n",
    "st=input()\n",
    "st2=st.replace(\" \",\"\")\n",
    "print(st2.capitalize())"
   ]
  },
  {
   "cell_type": "code",
   "execution_count": 14,
   "metadata": {},
   "outputs": [
    {
     "name": "stdout",
     "output_type": "stream",
     "text": [
      "hey hello ruthu whereever you are\n",
      "whereever\n"
     ]
    }
   ],
   "source": [
    "# 2nd question...\n",
    "    # Print the maximum length word of given words\n",
    "    #Hai hello world\n",
    "    #hello\n",
    "    #world\n",
    "        \n",
    "words=input().split()\n",
    "lengths=[]\n",
    "for word in words:\n",
    "    lengths.append(len(word))\n",
    "max_length=max(lengths)\n",
    "for word in words:\n",
    "    if max_length==len(word):\n",
    "        print(word)\n",
    "        \n",
    "        \n",
    "        "
   ]
  },
  {
   "cell_type": "code",
   "execution_count": null,
   "metadata": {},
   "outputs": [],
   "source": []
  },
  {
   "cell_type": "code",
   "execution_count": 1,
   "metadata": {},
   "outputs": [
    {
     "name": "stdout",
     "output_type": "stream",
     "text": [
      "3\n",
      "ramu\n",
      "ramu\n",
      "ruthu\n",
      "ruthu\n",
      "ashok\n",
      "-1\n"
     ]
    }
   ],
   "source": [
    "# 3) Print all the words which starts with the given character, If no words matches with the given \n",
    "#condition you should print -1\n",
    "        #ramu ravi balu\n",
    "        #r\n",
    "        #ramu\n",
    "        #ravi\n",
    "\n",
    "# Taking inputs =t\n",
    "t=int(input())\n",
    "for i in range(t):\n",
    "    st=input()\n",
    "    if(st.startswith('r')):\n",
    "        print(st)\n",
    "    else:\n",
    "        print(-1) \n"
   ]
  },
  {
   "cell_type": "code",
   "execution_count": null,
   "metadata": {},
   "outputs": [],
   "source": [
    "words=input().split()\n",
    "c=input()\n",
    "match=0\n",
    "for word in words:\n",
    "    if word.startswith(c):\n",
    "        print(word)\n",
    "        match+=1\n",
    "if match==0:\n",
    "    print(-1)"
   ]
  },
  {
   "cell_type": "code",
   "execution_count": null,
   "metadata": {},
   "outputs": [],
   "source": [
    "Print all the words which words not ends with vowels(a,e,i,o,u)\n",
    "ramu ravi balu raju mahesh\n",
    "mahesh\n"
   ]
  },
  {
   "cell_type": "code",
   "execution_count": 3,
   "metadata": {},
   "outputs": [
    {
     "name": "stdout",
     "output_type": "stream",
     "text": [
      "2\n",
      "ruthu\n",
      "harish\n",
      "harish\n"
     ]
    }
   ],
   "source": [
    "t=int(input())\n",
    "tpl=('a','e','i','o','u')\n",
    "for i in range(t):\n",
    "    v=input()\n",
    "    if (v.endswith(tpl)==False):\n",
    "        print(v)"
   ]
  },
  {
   "cell_type": "code",
   "execution_count": 16,
   "metadata": {},
   "outputs": [
    {
     "name": "stdout",
     "output_type": "stream",
     "text": [
      "ramu akash balu\n",
      "akash\n"
     ]
    }
   ],
   "source": [
    "#Print all the words which word contains duplicate characters\n",
    "#ramu akash balu\n",
    "#akash\n",
    "\n",
    "names=input().split()\n",
    "count=0\n",
    "for word in names:\n",
    "    for ch in word:\n",
    "        if word.count(ch)>1:\n",
    "            print(word)\n",
    "            break\n",
    "    "
   ]
  },
  {
   "cell_type": "code",
   "execution_count": null,
   "metadata": {},
   "outputs": [],
   "source": []
  },
  {
   "cell_type": "code",
   "execution_count": null,
   "metadata": {},
   "outputs": [],
   "source": [
    "7. Print the number of words in a given string (here word starting character contains UPPER letter)\n",
    "HelloWorld\n",
    "2\n"
   ]
  },
  {
   "cell_type": "code",
   "execution_count": null,
   "metadata": {},
   "outputs": [],
   "source": [
    "st=input()\n",
    "w_c=0\n",
    "for word in st:\n",
    "    if(word[0].isupper()):\n",
    "        w_c+=1\n",
    "print(w_c)"
   ]
  },
  {
   "cell_type": "code",
   "execution_count": 1,
   "metadata": {},
   "outputs": [
    {
     "name": "stdout",
     "output_type": "stream",
     "text": [
      "Hello World\n"
     ]
    },
    {
     "data": {
      "text/plain": [
       "2"
      ]
     },
     "execution_count": 1,
     "metadata": {},
     "output_type": "execute_result"
    }
   ],
   "source": [
    "len(list(filter(str.isupper,input())))"
   ]
  },
  {
   "cell_type": "code",
   "execution_count": null,
   "metadata": {},
   "outputs": [],
   "source": [
    "6. Swap the case of all characters in given string except last character\n",
    "HellowOrld\n",
    "hELLOWoRLd\n",
    "\n"
   ]
  },
  {
   "cell_type": "code",
   "execution_count": 2,
   "metadata": {},
   "outputs": [
    {
     "name": "stdout",
     "output_type": "stream",
     "text": [
      "RutHu\n",
      "rUThu\n"
     ]
    }
   ],
   "source": [
    "st=input()\n",
    "s1=st[:-1].swapcase()+st[-1]\n",
    "print(s1)"
   ]
  },
  {
   "cell_type": "code",
   "execution_count": 17,
   "metadata": {},
   "outputs": [
    {
     "name": "stdout",
     "output_type": "stream",
     "text": [
      "3\n",
      "ruthu\n",
      "from\n",
      "iiit-nuzvid\n",
      "i\n",
      "i\n",
      "i\n",
      "t\n",
      "-\n",
      "n\n",
      "u\n",
      "z\n",
      "v\n",
      "i\n",
      "d\n"
     ]
    }
   ],
   "source": [
    "t=int(input())\n",
    "li=[]\n",
    "for i in range(1,t+1):\n",
    "    words=input()\n",
    "    l=len(words)\n",
    "    li.append(l)\n",
    "m=max(li)\n",
    "for j in words:\n",
    "    if m==l:\n",
    "        print(j)\n",
    "        "
   ]
  },
  {
   "cell_type": "code",
   "execution_count": 21,
   "metadata": {},
   "outputs": [
    {
     "name": "stdout",
     "output_type": "stream",
     "text": [
      "1 2 3\n",
      "<class 'map'> (<class 'int'>, ['1', '2', '3'])\n"
     ]
    }
   ],
   "source": [
    "words=input().split()\n",
    "print(map,(int,words))"
   ]
  },
  {
   "cell_type": "code",
   "execution_count": 2,
   "metadata": {},
   "outputs": [
    {
     "name": "stdout",
     "output_type": "stream",
     "text": [
      "10\n",
      "2 4 6 8 10 \n",
      "1 3 5 7 9 "
     ]
    }
   ],
   "source": [
    "## 1.Print even and odd numbers up to given range.\n",
    "\n",
    "n=int(input())\n",
    "for i in range(1,n+1):\n",
    "    if (i%2==0):\n",
    "        print(i,end=\" \")\n",
    "print()\n",
    "for i in range(1,n+1):\n",
    "    if(i%2==1):\n",
    "        print(i,end=\" \")"
   ]
  },
  {
   "cell_type": "code",
   "execution_count": 7,
   "metadata": {},
   "outputs": [
    {
     "name": "stdout",
     "output_type": "stream",
     "text": [
      "20\n",
      "0 2 4 6 8 10 12 14 16 18 \n",
      "1 3 5 7 9 11 13 15 17 19 "
     ]
    }
   ],
   "source": [
    "n=int(input())\n",
    "for i in range(0,n,2):\n",
    "    print(i,end=\" \")\n",
    "print()\n",
    "for i in range(1,n,2):\n",
    "    print(i,end=\" \")"
   ]
  },
  {
   "cell_type": "code",
   "execution_count": 8,
   "metadata": {},
   "outputs": [],
   "source": [
    "# 2.print given numbers prime or not.\n",
    "def isPrime(n):\n",
    "    count=0\n",
    "    for i in range(1,n+1):\n",
    "        if (n%i==0):\n",
    "            count+=1\n",
    "    if(count==2):\n",
    "        return True\n"
   ]
  },
  {
   "cell_type": "markdown",
   "metadata": {},
   "source": [
    "## List Comprehension\n"
   ]
  },
  {
   "cell_type": "code",
   "execution_count": 10,
   "metadata": {},
   "outputs": [
    {
     "data": {
      "text/plain": [
       "[]"
      ]
     },
     "execution_count": 10,
     "metadata": {},
     "output_type": "execute_result"
    }
   ],
   "source": [
    "li=[i for i in range(10)]\n",
    "li"
   ]
  },
  {
   "cell_type": "code",
   "execution_count": 12,
   "metadata": {},
   "outputs": [
    {
     "name": "stdout",
     "output_type": "stream",
     "text": [
      "[0, 1, 4, 9, 16, 25, 36, 49, 64, 81]\n"
     ]
    }
   ],
   "source": [
    "li2=[i*i for i in range(10)]\n",
    "print(li2)"
   ]
  },
  {
   "cell_type": "code",
   "execution_count": 14,
   "metadata": {},
   "outputs": [
    {
     "name": "stdout",
     "output_type": "stream",
     "text": [
      "[5, 10, 15, 20, 25, 30, 35, 40, 45]\n"
     ]
    }
   ],
   "source": [
    "m=[i*5 for i in range(1,10)]\n",
    "print(m)"
   ]
  },
  {
   "cell_type": "code",
   "execution_count": 20,
   "metadata": {},
   "outputs": [
    {
     "name": "stdout",
     "output_type": "stream",
     "text": [
      "[0, 2, 4, 6, 8, 10]\n"
     ]
    }
   ],
   "source": [
    "even=[i for i in range(0,10+1,2)]\n",
    "print(even)"
   ]
  },
  {
   "cell_type": "code",
   "execution_count": 19,
   "metadata": {},
   "outputs": [
    {
     "name": "stdout",
     "output_type": "stream",
     "text": [
      "[1, 3, 5, 7, 9]\n"
     ]
    }
   ],
   "source": [
    "odd=[i for i in range(1,10,2)]\n",
    "print(odd)"
   ]
  },
  {
   "cell_type": "code",
   "execution_count": 10,
   "metadata": {},
   "outputs": [
    {
     "name": "stdout",
     "output_type": "stream",
     "text": [
      "8\n",
      "[[8, 1, 8], [8, 2, 16], [8, 3, 24], [8, 4, 32], [8, 5, 40], [8, 6, 48], [8, 7, 56], [8, 8, 64], [8, 9, 72]]\n"
     ]
    }
   ],
   "source": [
    "#nth multiple\n",
    "n=int(input())\n",
    "m=[[n,i,n*i] for i in range(1,10)]\n",
    "print(m)\n"
   ]
  },
  {
   "cell_type": "code",
   "execution_count": 13,
   "metadata": {},
   "outputs": [
    {
     "name": "stdout",
     "output_type": "stream",
     "text": [
      "RuThU\n",
      "['r', 'u', 't', 'h', 'u']\n"
     ]
    }
   ],
   "source": [
    "# str from input combination of upper\n",
    "# display in lower\n",
    "st=input()\n",
    "print(ch for ch in st if ch.islower()])\n"
   ]
  },
  {
   "cell_type": "code",
   "execution_count": 1,
   "metadata": {},
   "outputs": [
    {
     "name": "stdout",
     "output_type": "stream",
     "text": [
      "1a2b3c\n",
      "6\n"
     ]
    }
   ],
   "source": [
    "# 1a2b3c\n",
    "# count of digits\n",
    "count=0\n",
    "st=input()\n",
    "li=[ch.isdigit() for ch in st]\n",
    "for i in li:\n",
    "    count+=1\n",
    "print(count)\n",
    "\n"
   ]
  },
  {
   "cell_type": "code",
   "execution_count": 12,
   "metadata": {},
   "outputs": [
    {
     "name": "stdout",
     "output_type": "stream",
     "text": [
      "500\n",
      "great\n"
     ]
    }
   ],
   "source": [
    "n=int(input())\n",
    "if n>=400 and n<=500 :\n",
    "    print(\"great\")\n",
    "else:\n",
    "    print(\"You need to improve\")"
   ]
  },
  {
   "cell_type": "code",
   "execution_count": 13,
   "metadata": {},
   "outputs": [
    {
     "name": "stdout",
     "output_type": "stream",
     "text": [
      "hello\n"
     ]
    }
   ],
   "source": [
    "a=True\n",
    "if not a:\n",
    "    print(\"hi\")\n",
    "else:\n",
    "    print('hello')"
   ]
  },
  {
   "cell_type": "code",
   "execution_count": null,
   "metadata": {},
   "outputs": [],
   "source": []
  }
 ],
 "metadata": {
  "kernelspec": {
   "display_name": "Python 3",
   "language": "python",
   "name": "python3"
  },
  "language_info": {
   "codemirror_mode": {
    "name": "ipython",
    "version": 3
   },
   "file_extension": ".py",
   "mimetype": "text/x-python",
   "name": "python",
   "nbconvert_exporter": "python",
   "pygments_lexer": "ipython3",
   "version": "3.7.3"
  }
 },
 "nbformat": 4,
 "nbformat_minor": 2
}
