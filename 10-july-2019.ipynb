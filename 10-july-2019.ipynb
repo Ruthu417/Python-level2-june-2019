{
 "cells": [
  {
   "cell_type": "markdown",
   "metadata": {},
   "source": [
    "## Files\n",
    " - To store the digital information\n",
    " - To work with files in python mainly 3 steps"
   ]
  },
  {
   "cell_type": "code",
   "execution_count": 17,
   "metadata": {},
   "outputs": [
    {
     "name": "stdout",
     "output_type": "stream",
     "text": [
      "name eng phy maths\n",
      "sai  80  70   60\n",
      "ravi 70  60   60\n",
      "sasi 60  60   60\n",
      "\n",
      "\n"
     ]
    }
   ],
   "source": [
    "## open a file with read operation\n",
    "\n",
    "\n",
    "fh=open('book.txt','r')\n",
    "\n",
    "data=fh.read()\n",
    "print(data)\n",
    "fh.close()"
   ]
  },
  {
   "cell_type": "code",
   "execution_count": 18,
   "metadata": {},
   "outputs": [],
   "source": [
    "## write a file \n",
    "\n",
    "fh=open('book2.txt','w')\n",
    "\n",
    "data=\"hi hello\"\n",
    "\n",
    "fh.write(data)\n",
    "\n",
    "fh.close()"
   ]
  },
  {
   "cell_type": "code",
   "execution_count": null,
   "metadata": {},
   "outputs": [],
   "source": [
    "## write a file \n",
    "\n",
    "fh=open('book2.txt','w')\n",
    "\n",
    "fh.write(\"Hi I am Ruthu How are you\")s\n",
    "\n",
    "fh.close()"
   ]
  },
  {
   "cell_type": "code",
   "execution_count": 20,
   "metadata": {},
   "outputs": [],
   "source": [
    "## Append mode\n",
    "\n",
    "\n",
    "fh=open('book2.txt','a')\n",
    "\n",
    "data='hiiii everyone'\n",
    "fh.write(data)\n",
    "fh.close()"
   ]
  },
  {
   "cell_type": "code",
   "execution_count": 2,
   "metadata": {},
   "outputs": [],
   "source": [
    "f_i=open('book.txt','r')\n",
    "f_o=open('output.txt','w')\n",
    "count=0\n",
    "for line in f_i:\n",
    "    count+=1\n",
    "    if count==1:\n",
    "        f_o.write(line.strip()+'\\total')\n",
    "    else:\n",
    "        marks=sum(list(map(int,line.split()[1:])))\n",
    "        f_o.write('\\n'+line.strip()+'\\t'+str(marks))\n",
    "f_i.close()\n",
    "f_o.close()"
   ]
  },
  {
   "cell_type": "code",
   "execution_count": 3,
   "metadata": {},
   "outputs": [
    {
     "name": "stdout",
     "output_type": "stream",
     "text": [
      "name eng phy maths\n",
      "sai  80  70   60\n",
      "ravi 70  60   60\n",
      "sasi 60  60   60\n",
      "\n",
      "\n"
     ]
    }
   ],
   "source": [
    "fl=open('book.txt')\n",
    "data=fl.read()\n",
    "print(data)"
   ]
  },
  {
   "cell_type": "code",
   "execution_count": 7,
   "metadata": {},
   "outputs": [
    {
     "name": "stdout",
     "output_type": "stream",
     "text": [
      "\n"
     ]
    }
   ],
   "source": [
    "f=open('book.txt')\n",
    "data=f.read()\n",
    "data=f.read()  # Here we are reading 2nd time at the end of file that's why it is not giving anything\n",
    "print(data)\n",
    "f.close()"
   ]
  },
  {
   "cell_type": "code",
   "execution_count": 8,
   "metadata": {},
   "outputs": [
    {
     "name": "stdout",
     "output_type": "stream",
     "text": [
      "I am at 71\n"
     ]
    }
   ],
   "source": [
    "f=open('book.txt')\n",
    "data=f.read()\n",
    "print(\"I am at\",f.tell())    # Tells the position of cursor in file"
   ]
  },
  {
   "cell_type": "code",
   "execution_count": null,
   "metadata": {},
   "outputs": [],
   "source": [
    "# To bring the cursor from position to first\n",
    "\n",
    "f=open('book.txt','r')\n",
    "print(\"I am at \",f.tell())\n",
    "print(\"I am moving to \",f.seek(10))\n",
    "print(\"I am at \",f.tell())\n",
    "\n",
    "f.close()"
   ]
  },
  {
   "cell_type": "markdown",
   "metadata": {},
   "source": [
    "### f.readline()"
   ]
  },
  {
   "cell_type": "code",
   "execution_count": 16,
   "metadata": {},
   "outputs": [
    {
     "name": "stdout",
     "output_type": "stream",
     "text": [
      "sai  80  70   60\n",
      "\n"
     ]
    }
   ],
   "source": [
    "f=open('book.txt','r')\n",
    "data=f.readline() # First time gives the first line\n",
    "data=f.readline() # Now at this movement cursor is at second line\n",
    "print(data)\n",
    "\n",
    "f.close()"
   ]
  },
  {
   "cell_type": "code",
   "execution_count": 15,
   "metadata": {},
   "outputs": [
    {
     "name": "stdout",
     "output_type": "stream",
     "text": [
      "['sai  80  70   60\\n', 'ravi 70  60   60\\n', 'sasi 60  60   60\\n', '\\n']\n"
     ]
    }
   ],
   "source": [
    "data=f.readlines()\n",
    "print(data)"
   ]
  },
  {
   "cell_type": "code",
   "execution_count": null,
   "metadata": {},
   "outputs": [],
   "source": []
  },
  {
   "cell_type": "markdown",
   "metadata": {},
   "source": [
    "#### Functions\n",
    "- Main usage: Code reusability \n",
    "- Function call -> arguements()\n",
    "- Fucntion def-> parameters()\n"
   ]
  },
  {
   "cell_type": "code",
   "execution_count": 23,
   "metadata": {},
   "outputs": [
    {
     "name": "stdout",
     "output_type": "stream",
     "text": [
      "5\n",
      "Prime\n"
     ]
    }
   ],
   "source": [
    "n=int(input())\n",
    "def isPrime(n):\n",
    "    count=0\n",
    "    for i in range(1,n+1):\n",
    "        if (n%i==0):\n",
    "            count+=1\n",
    "    if(count==2):\n",
    "        print(\"Prime\")\n",
    "    else:\n",
    "        print(\"Not prime\")\n",
    "isPrime(n)\n",
    "\n"
   ]
  },
  {
   "cell_type": "code",
   "execution_count": 46,
   "metadata": {},
   "outputs": [
    {
     "name": "stdout",
     "output_type": "stream",
     "text": [
      "2 3 5 7 11 13 17 19 23 29 31 37 41 43 47 "
     ]
    }
   ],
   "source": [
    "\n",
    "def prime_range(lw,up):\n",
    "    for each in range(lw,up+1): \n",
    "        count=0\n",
    "        for dig in range(1,each+1):\n",
    "            if(each%dig==0):\n",
    "                count+=1\n",
    "        if(count==2):\n",
    "            print(each,end=\" \")\n",
    "        each+=1\n",
    "\n",
    "prime_range(1,50)"
   ]
  },
  {
   "cell_type": "code",
   "execution_count": 48,
   "metadata": {},
   "outputs": [
    {
     "name": "stdout",
     "output_type": "stream",
     "text": [
      "65789\n"
     ]
    },
    {
     "data": {
      "text/plain": [
       "False"
      ]
     },
     "execution_count": 48,
     "metadata": {},
     "output_type": "execute_result"
    }
   ],
   "source": [
    "def isPerfect(n):\n",
    "    s=0\n",
    "    for i in range(1,n):\n",
    "        if(n%i==0):\n",
    "            s+=i\n",
    "    if(s==n):\n",
    "        return True\n",
    "    else:\n",
    "        return False\n",
    "n=int(input())\n",
    "isPerfect(n)"
   ]
  },
  {
   "cell_type": "code",
   "execution_count": 49,
   "metadata": {},
   "outputs": [
    {
     "name": "stdout",
     "output_type": "stream",
     "text": [
      "6\n",
      "28\n"
     ]
    }
   ],
   "source": [
    "for i in range(1,100):\n",
    "    if isPerfect(i)==True:\n",
    "        print(i)"
   ]
  },
  {
   "cell_type": "code",
   "execution_count": 50,
   "metadata": {},
   "outputs": [
    {
     "name": "stdout",
     "output_type": "stream",
     "text": [
      "ruthu\n",
      "uhtur\n"
     ]
    }
   ],
   "source": [
    "st=input()\n",
    "def string_reverse(st):\n",
    "    print(st[::-1])\n",
    "\n",
    "string_reverse(st)"
   ]
  },
  {
   "cell_type": "code",
   "execution_count": 13,
   "metadata": {},
   "outputs": [
    {
     "name": "stdout",
     "output_type": "stream",
     "text": [
      "ruthu meda ch ashok\n",
      "['ruthu', 'meda', 'ch', 'ashok']\n",
      "ashok ch meda ruthu ['ruthu', 'meda', 'ch', 'cse', 'ashok']\n",
      "3\n"
     ]
    }
   ],
   "source": [
    "st=input().split()\n",
    "li=[]\n",
    "for ch in st:\n",
    "    li.append(ch)\n",
    "print(li)\n",
    "for item in li[::-1]:\n",
    "    print(item,end=\" \")\n",
    "li.insert(3,'cse')\n",
    "print(li)\n",
    "print(li.index('cse'))"
   ]
  },
  {
   "cell_type": "code",
   "execution_count": 10,
   "metadata": {},
   "outputs": [
    {
     "data": {
      "text/plain": [
       "['__add__',\n",
       " '__class__',\n",
       " '__contains__',\n",
       " '__delattr__',\n",
       " '__delitem__',\n",
       " '__dir__',\n",
       " '__doc__',\n",
       " '__eq__',\n",
       " '__format__',\n",
       " '__ge__',\n",
       " '__getattribute__',\n",
       " '__getitem__',\n",
       " '__gt__',\n",
       " '__hash__',\n",
       " '__iadd__',\n",
       " '__imul__',\n",
       " '__init__',\n",
       " '__init_subclass__',\n",
       " '__iter__',\n",
       " '__le__',\n",
       " '__len__',\n",
       " '__lt__',\n",
       " '__mul__',\n",
       " '__ne__',\n",
       " '__new__',\n",
       " '__reduce__',\n",
       " '__reduce_ex__',\n",
       " '__repr__',\n",
       " '__reversed__',\n",
       " '__rmul__',\n",
       " '__setattr__',\n",
       " '__setitem__',\n",
       " '__sizeof__',\n",
       " '__str__',\n",
       " '__subclasshook__',\n",
       " 'append',\n",
       " 'clear',\n",
       " 'copy',\n",
       " 'count',\n",
       " 'extend',\n",
       " 'index',\n",
       " 'insert',\n",
       " 'pop',\n",
       " 'remove',\n",
       " 'reverse',\n",
       " 'sort']"
      ]
     },
     "execution_count": 10,
     "metadata": {},
     "output_type": "execute_result"
    }
   ],
   "source": [
    "dir(li)"
   ]
  },
  {
   "cell_type": "code",
   "execution_count": 23,
   "metadata": {},
   "outputs": [
    {
     "name": "stdout",
     "output_type": "stream",
     "text": [
      "AYTTEUIOEGVBVNBJDOaboperejhbv637890128736378\n",
      "{'6': 2, '3': 3, '7': 3, '8': 3, '9': 1, '0': 1, '1': 1, '2': 1}\n",
      "{'a': 1, 'b': 2, 'o': 1, 'p': 1, 'e': 2, 'r': 1, 'j': 1, 'h': 1, 'v': 1}\n",
      "{'A': 1, 'Y': 1, 'T': 2, 'E': 2, 'U': 1, 'I': 1, 'O': 2, 'G': 1, 'V': 2, 'B': 2, 'N': 1, 'J': 1, 'D': 1}\n"
     ]
    }
   ],
   "source": [
    "st=input()\n",
    "dig_dic={}\n",
    "char_dic={}\n",
    "up_dic={}\n",
    "for ch in st:\n",
    "    if ch.isdigit():\n",
    "        dig_dic[ch]=st.count(ch)\n",
    "    elif ch.islower():\n",
    "        char_dic[ch]=st.count(ch)\n",
    "    elif ch.isupper():\n",
    "        up_dic[ch]=st.count(ch)\n",
    "print(dig_dic)\n",
    "print(char_dic)\n",
    "print(up_dic)\n"
   ]
  },
  {
   "cell_type": "code",
   "execution_count": 25,
   "metadata": {},
   "outputs": [
    {
     "name": "stdout",
     "output_type": "stream",
     "text": [
      "tuyioATYUIRRI45678\n",
      "['4', '5', '6', '7', '8']\n",
      "['t', 'u', 'y', 'i', 'o']\n",
      "['A', 'T', 'Y', 'U', 'I', 'R', 'R', 'I']\n"
     ]
    }
   ],
   "source": [
    "st=input()\n",
    "dig_li=[]\n",
    "char_li=[]\n",
    "low_li=[]\n",
    "up_li=[]\n",
    "spe_li=[]\n",
    "for ch in st:\n",
    "    if ch.isdigit():\n",
    "        dig_li.append(ch)\n",
    "   # elif ch.isalpha():\n",
    "        #char_li.append(ch)\n",
    "    elif ch.islower():\n",
    "        low_li.append(ch)\n",
    "    elif ch.isupper():\n",
    "        up_li.append(ch)\n",
    "print(dig_li)\n",
    "#print(char_li)\n",
    "print(low_li)\n",
    "print(up_li)"
   ]
  },
  {
   "cell_type": "code",
   "execution_count": 28,
   "metadata": {},
   "outputs": [
    {
     "name": "stdout",
     "output_type": "stream",
     "text": [
      "Vanitha: do you have sense?\n",
      "Yes, I don't have\n"
     ]
    }
   ],
   "source": [
    "vanitha=input()\n",
    "print(\"Yes, I don't have\")"
   ]
  },
  {
   "cell_type": "code",
   "execution_count": 29,
   "metadata": {},
   "outputs": [
    {
     "name": "stdout",
     "output_type": "stream",
     "text": [
      "dict_items([('name', 'ruthu'), ('id', 130417), ('branch', 'cse'), ('inst', 'rgukt'), ('place', 'nuzvid')])\n"
     ]
    }
   ],
   "source": [
    "dc={'name':'ruthu','id':130417,'branch':'cse','inst':'rgukt','place':'nuzvid'}\n",
    "print(dc.items())"
   ]
  },
  {
   "cell_type": "code",
   "execution_count": null,
   "metadata": {},
   "outputs": [],
   "source": []
  },
  {
   "cell_type": "code",
   "execution_count": 33,
   "metadata": {},
   "outputs": [
    {
     "name": "stdout",
     "output_type": "stream",
     "text": [
      "81\n"
     ]
    },
    {
     "data": {
      "text/plain": [
       "False"
      ]
     },
     "execution_count": 33,
     "metadata": {},
     "output_type": "execute_result"
    }
   ],
   "source": [
    "def isPrime(n):\n",
    "    count=0\n",
    "    for i in range(1,n+1):\n",
    "        if(n%i==0):\n",
    "            count+=1\n",
    "    if(count==2):\n",
    "        return True\n",
    "    else:\n",
    "        return False\n",
    "\n",
    "n=int(input())\n",
    "isPrime(n)\n"
   ]
  },
  {
   "cell_type": "code",
   "execution_count": 37,
   "metadata": {},
   "outputs": [
    {
     "name": "stdout",
     "output_type": "stream",
     "text": [
      "2 3 5 7 11 13 17 19 23 29 31 37 41 43 47 53 59 61 67 71 73 79 83 89 97 "
     ]
    }
   ],
   "source": [
    "for num in range(1,100):\n",
    "    if isPrime(num)==True:\n",
    "        print(num,end=\" \")"
   ]
  },
  {
   "cell_type": "code",
   "execution_count": 44,
   "metadata": {},
   "outputs": [
    {
     "name": "stdout",
     "output_type": "stream",
     "text": [
      "2 3 5 7 11 13 17 19 23 29 31 37 41 43 47 53 59 61 67 71 73 79 83 89 97 \n",
      "25\n"
     ]
    }
   ],
   "source": [
    "li=[]\n",
    "def prime_range(lw,up):\n",
    "    for num in range(lw,up+1):\n",
    "        if isPrime(num):\n",
    "            print(num,end=\" \")\n",
    "            li.append(num)\n",
    "prime_range(1,100)\n",
    "print()\n",
    "print(len(li))"
   ]
  },
  {
   "cell_type": "code",
   "execution_count": 53,
   "metadata": {},
   "outputs": [
    {
     "name": "stdout",
     "output_type": "stream",
     "text": [
      "77\n",
      "No\n"
     ]
    }
   ],
   "source": [
    "n=int(input())\n",
    "count=0\n",
    "for i in range(1,n//2):\n",
    "    if(n%i==0):\n",
    "        count+=1\n",
    "if(count==1):\n",
    "    print(\"Yes\")\n",
    "else:\n",
    "    print(\"No\")"
   ]
  },
  {
   "cell_type": "code",
   "execution_count": 57,
   "metadata": {},
   "outputs": [
    {
     "name": "stdout",
     "output_type": "stream",
     "text": [
      "ruthu\n",
      "{'r': 114, 'u': 117, 't': 116, 'h': 104}\n"
     ]
    }
   ],
   "source": [
    "st=input()\n",
    "dic={}\n",
    "for ch in st:\n",
    "    dic[ch]=ord(ch)\n",
    "print(dic)"
   ]
  },
  {
   "cell_type": "markdown",
   "metadata": {},
   "source": [
    "### Functions() in Python\n",
    "- It is of two types:\n",
    "    - Pre-defined\n",
    "    - User defined\n",
    "   "
   ]
  },
  {
   "cell_type": "code",
   "execution_count": 58,
   "metadata": {},
   "outputs": [
    {
     "ename": "SyntaxError",
     "evalue": "invalid syntax (<ipython-input-58-300413e0797b>, line 5)",
     "output_type": "error",
     "traceback": [
      "\u001b[1;36m  File \u001b[1;32m\"<ipython-input-58-300413e0797b>\"\u001b[1;36m, line \u001b[1;32m5\u001b[0m\n\u001b[1;33m    input() >used to take input from user of string type of data\u001b[0m\n\u001b[1;37m                   ^\u001b[0m\n\u001b[1;31mSyntaxError\u001b[0m\u001b[1;31m:\u001b[0m invalid syntax\n"
     ]
    }
   ],
   "source": [
    "#pre defined:\n",
    "# We no need to define them again as they already defined ealier when developing python\n",
    "#We can simply call and use them in everwhere in program when we need\n",
    "# for ex:\n",
    "input() >used to take input from user of string type of data\n",
    "int(input()) > used to take input of integer type data\n",
    "\n",
    "map()\n",
    "len(str)\n",
    "max(li)\n",
    "min(li)\n",
    "li.append()\n",
    "li.sort()\n",
    "sum\n",
    "count(ch)\n",
    "isdigit()....\n",
    "\n",
    "\n",
    "coming to user defined one:\n",
    "    we need to define their functionality\n",
    "    means why we are using for?\n",
    "    main use:\n",
    "        code reusability nature means we can call and use one program anywhere in a program multiple times\n",
    "        for ex:\n",
    "            "
   ]
  },
  {
   "cell_type": "code",
   "execution_count": 60,
   "metadata": {},
   "outputs": [
    {
     "name": "stdout",
     "output_type": "stream",
     "text": [
      "r\n",
      "u\n",
      "t\n",
      "h\n"
     ]
    }
   ],
   "source": [
    "for key in dic.keys():\n",
    "    print(key)"
   ]
  },
  {
   "cell_type": "code",
   "execution_count": 8,
   "metadata": {},
   "outputs": [
    {
     "data": {
      "text/plain": [
       "False"
      ]
     },
     "execution_count": 8,
     "metadata": {},
     "output_type": "execute_result"
    }
   ],
   "source": [
    "def isAmstrong(n):\n",
    "    s=0\n",
    "    order=len(str(n))\n",
    "    while(n>0):\n",
    "        rem=n%10\n",
    "        s+=rem**order\n",
    "        n=n//10\n",
    "    if(s==n):\n",
    "        return True\n",
    "    else:\n",
    "        return False\n",
    "    \n",
    "isAmstrong(1634)"
   ]
  },
  {
   "cell_type": "code",
   "execution_count": 15,
   "metadata": {},
   "outputs": [
    {
     "name": "stdout",
     "output_type": "stream",
     "text": [
      "ruthu vanitha ashok\n",
      "ruthu\n",
      "vanitha\n"
     ]
    }
   ],
   "source": [
    "words=input().split()\n",
    "for word in words:\n",
    "    for ch in word:\n",
    "        if word.count(ch)>1:\n",
    "            print(word)\n",
    "            break\n",
    "    "
   ]
  },
  {
   "cell_type": "code",
   "execution_count": 16,
   "metadata": {},
   "outputs": [
    {
     "name": "stdout",
     "output_type": "stream",
     "text": [
      "ruthu dfj dkjf\n",
      "['ruthu', 'dfj', 'dkjf']\n"
     ]
    }
   ],
   "source": [
    "st=[ch for ch in input().split()]\n",
    "print(st)"
   ]
  },
  {
   "cell_type": "code",
   "execution_count": 17,
   "metadata": {},
   "outputs": [
    {
     "name": "stdout",
     "output_type": "stream",
     "text": [
      "[2, 4, 6, 8, 10, 12, 14, 16, 18, 20, 22, 24, 26, 28, 30, 32, 34, 36, 38, 40, 42, 44, 46, 48, 50, 52, 54, 56, 58, 60, 62, 64, 66, 68, 70, 72, 74, 76, 78, 80, 82, 84, 86, 88, 90, 92, 94, 96, 98]\n"
     ]
    }
   ],
   "source": [
    "even=[num for num in range(1,100) if num%2==0]\n",
    "print(even)"
   ]
  },
  {
   "cell_type": "code",
   "execution_count": 18,
   "metadata": {},
   "outputs": [
    {
     "name": "stdout",
     "output_type": "stream",
     "text": [
      "30\n",
      "[1, 3, 5, 7, 9, 11, 13, 15, 17, 19, 21, 23, 25, 27, 29]\n"
     ]
    }
   ],
   "source": [
    "odd=[n for n in range(int(input())) if n%2==1]\n",
    "print(odd)"
   ]
  },
  {
   "cell_type": "code",
   "execution_count": 19,
   "metadata": {},
   "outputs": [
    {
     "name": "stdout",
     "output_type": "stream",
     "text": [
      "[0, 2, 4, 6, 8, 10, 12, 14, 16, 18, 20, 22, 24, 26, 28, 30, 32, 34, 36, 38, 40, 42, 44, 46, 48, 50, 52, 54, 56, 58, 60, 62, 64, 66, 68, 70, 72, 74, 76, 78, 80, 82, 84, 86, 88, 90, 92, 94, 96, 98]\n"
     ]
    }
   ],
   "source": [
    "e=[i for i in range(0,100,2)]\n",
    "print(e)"
   ]
  },
  {
   "cell_type": "code",
   "execution_count": 20,
   "metadata": {},
   "outputs": [
    {
     "name": "stdout",
     "output_type": "stream",
     "text": [
      "[100, 98, 96, 94, 92, 90, 88, 86, 84, 82, 80, 78, 76, 74, 72, 70, 68, 66, 64, 62, 60, 58, 56, 54, 52, 50, 48, 46, 44, 42, 40, 38, 36, 34, 32, 30, 28, 26, 24, 22, 20, 18, 16, 14, 12, 10, 8, 6, 4, 2]\n"
     ]
    }
   ],
   "source": [
    "even_reverse=[i for i in range(100,0,-1) if i%2==0]\n",
    "print(even_reverse)"
   ]
  },
  {
   "cell_type": "code",
   "execution_count": 3,
   "metadata": {},
   "outputs": [
    {
     "name": "stdout",
     "output_type": "stream",
     "text": [
      "ruthu as vanitha\n",
      "enter number2\n",
      "enter number5\n",
      "enter number4\n",
      "[]\n"
     ]
    }
   ],
   "source": [
    "st=[word for word in input().split() if len(word)==int(input(\"enter number\"))]\n",
    "print(st)"
   ]
  },
  {
   "cell_type": "code",
   "execution_count": null,
   "metadata": {},
   "outputs": [],
   "source": []
  },
  {
   "cell_type": "code",
   "execution_count": null,
   "metadata": {},
   "outputs": [],
   "source": []
  },
  {
   "cell_type": "code",
   "execution_count": null,
   "metadata": {},
   "outputs": [],
   "source": []
  },
  {
   "cell_type": "code",
   "execution_count": null,
   "metadata": {},
   "outputs": [],
   "source": []
  }
 ],
 "metadata": {
  "kernelspec": {
   "display_name": "Python 3",
   "language": "python",
   "name": "python3"
  },
  "language_info": {
   "codemirror_mode": {
    "name": "ipython",
    "version": 3
   },
   "file_extension": ".py",
   "mimetype": "text/x-python",
   "name": "python",
   "nbconvert_exporter": "python",
   "pygments_lexer": "ipython3",
   "version": "3.7.3"
  }
 },
 "nbformat": 4,
 "nbformat_minor": 2
}
